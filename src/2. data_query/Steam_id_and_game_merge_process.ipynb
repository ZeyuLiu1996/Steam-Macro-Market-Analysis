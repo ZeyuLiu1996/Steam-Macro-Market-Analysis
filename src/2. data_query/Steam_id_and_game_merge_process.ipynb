{
 "cells": [
  {
   "cell_type": "code",
   "execution_count": 183,
   "metadata": {},
   "outputs": [],
   "source": [
    "import pandas as pd\n",
    "import re"
   ]
  },
  {
   "cell_type": "code",
   "execution_count": 184,
   "metadata": {},
   "outputs": [],
   "source": [
    "game_df = pd.read_csv('../../data/processed/all_game_data.csv')\n",
    "game_df = game_df[['steam_appid','price_overview','genres','developers','publishers','categories','release_date','metacritic']]\n",
    "steam_df = pd.read_csv('../../data/processed/all_steam_data.csv')"
   ]
  },
  {
   "cell_type": "markdown",
   "metadata": {},
   "source": [
    "merge循环设计，抓取steam_df中所有游戏的补充信息"
   ]
  },
  {
   "cell_type": "code",
   "execution_count": 185,
   "metadata": {},
   "outputs": [],
   "source": [
    "columns_list = steam_df.columns # 定义原始steam表格的列列表\n",
    "\n",
    "merge_column_list = ['appid_game1','appid_game2','appid_game3','appid_game4','appid_game5','appid_game1_2weeks','appid_game2_2weeks','appid_game3_2weeks'] # 定义需要查询的列表\n",
    "\n",
    "gather_df = steam_df # 初始化gather_df\n",
    "suffix_counter = 1 # 初始化后缀计数器\n",
    "\n",
    "for column in merge_column_list:\n",
    "    suffix = f'{suffix_counter}' # 动态生成后缀\n",
    "    gather_df = pd.merge(left=gather_df, right=game_df, left_on=column, right_on='steam_appid', how='left', suffixes=('', suffix))\n",
    "    suffix_counter += 1 # 更新后缀计数器\n"
   ]
  },
  {
   "cell_type": "markdown",
   "metadata": {},
   "source": [
    "更新部分不匹配的后缀"
   ]
  },
  {
   "cell_type": "code",
   "execution_count": 186,
   "metadata": {},
   "outputs": [],
   "source": [
    "# 初始化参数\n",
    "fixed_suffix = \"_2weeks_game_\"\n",
    "suffix_count = 0\n",
    "increment_count = 1\n",
    "\n",
    "# 获取列名列表\n",
    "columns = gather_df.columns.tolist()\n",
    "\n",
    "# 修改列名\n",
    "\n",
    "for i in range(83, len(columns)):\n",
    "    # 该正则表达式表示将column[i]中（即一个list）出现线序数字数字0-9的替换为空'',并返回一个空字符串（sub）\n",
    "    base_name = re.sub(r'\\d+', '', columns[i]) \n",
    "    columns[i] = f'{base_name}{fixed_suffix}{increment_count}'\n",
    "    suffix_count += 1\n",
    "    if suffix_count % 8 ==0:\n",
    "        increment_count += 1\n",
    "\n",
    "gather_df.columns = columns\n",
    "    "
   ]
  },
  {
   "cell_type": "code",
   "execution_count": 187,
   "metadata": {},
   "outputs": [
    {
     "data": {
      "text/plain": [
       "['steam_appid',\n",
       " 'price_overview',\n",
       " 'genres',\n",
       " 'developers',\n",
       " 'publishers',\n",
       " 'categories',\n",
       " 'release_date',\n",
       " 'metacritic']"
      ]
     },
     "execution_count": 187,
     "metadata": {},
     "output_type": "execute_result"
    }
   ],
   "source": [
    "gather_df.columns.to_list()[43:51]"
   ]
  },
  {
   "cell_type": "code",
   "execution_count": 188,
   "metadata": {},
   "outputs": [],
   "source": [
    "# 整理残余问题\n",
    "columns  = gather_df.columns.tolist()\n",
    "suffix = 1\n",
    "for i in range(43,51):\n",
    "    columns[i] = f'{columns[i]}{suffix}'\n",
    "\n",
    "gather_df.columns = columns\n",
    "gather_df = gather_df.drop(columns=['Unnamed: 0'])\n",
    "gather_df = gather_df.drop_duplicates(subset='steamid')\n"
   ]
  },
  {
   "cell_type": "code",
   "execution_count": 189,
   "metadata": {},
   "outputs": [],
   "source": [
    "gather_df.to_csv('../../data/processed/all_steam_and_game_data_before_clean.csv',index= False)"
   ]
  }
 ],
 "metadata": {
  "kernelspec": {
   "display_name": "Zeyu_for_data_analyze_use",
   "language": "python",
   "name": "python3"
  },
  "language_info": {
   "codemirror_mode": {
    "name": "ipython",
    "version": 3
   },
   "file_extension": ".py",
   "mimetype": "text/x-python",
   "name": "python",
   "nbconvert_exporter": "python",
   "pygments_lexer": "ipython3",
   "version": "3.11.8"
  }
 },
 "nbformat": 4,
 "nbformat_minor": 2
}
