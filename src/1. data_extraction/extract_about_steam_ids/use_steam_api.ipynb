{
 "cells": [
  {
   "cell_type": "markdown",
   "metadata": {},
   "source": [
    "### 导入必要工具包"
   ]
  },
  {
   "cell_type": "code",
   "execution_count": 1,
   "metadata": {},
   "outputs": [],
   "source": [
    "import aiohttp\n",
    "import asyncio\n",
    "import aiofiles\n",
    "import json\n",
    "import pandas as pd\n",
    "import gc # 防止内存泄漏\n",
    "import os"
   ]
  },
  {
   "cell_type": "markdown",
   "metadata": {},
   "source": [
    "### 初始化CSV文件"
   ]
  },
  {
   "cell_type": "markdown",
   "metadata": {},
   "source": [
    "首先先要在ids_for_api_use.csv文件中添加一列read or not用于后续调用api时被系统判断是否被读取过。<br>\n",
    "原因是识别到哪些账号已经被fetch过，能够继续在没有检索过的ids里继续自动fetch。<br>"
   ]
  },
  {
   "cell_type": "code",
   "execution_count": 2,
   "metadata": {},
   "outputs": [
    {
     "name": "stdout",
     "output_type": "stream",
     "text": [
      "存在已读条目。\n"
     ]
    }
   ],
   "source": [
    "\n",
    "# 读取CSV文件\n",
    "df = pd.read_csv('../../../data/raw/ids_for_api_use.csv')\n",
    "\n",
    "# 检查 'read_or_not' 列是否存在\n",
    "if 'read_or_not' not in df.columns:\n",
    "    # 如果 'read_or_not' 列不存在，则创建这列并将所有值初始化为0\n",
    "    df['read_or_not'] = 0\n",
    "    print(\"初始化 'read_or_not' 列为0，因为列不存在。\")\n",
    "else:\n",
    "    # 如果列已存在，检查是否有任何已读的条目（即值为1）\n",
    "    if df['read_or_not'].eq(1).any():\n",
    "        print(\"存在已读条目。\")\n",
    "    else:\n",
    "        # 如果没有已读条目，也可以选择将所有值设置为0\n",
    "        df['read_or_not'] = 0\n",
    "        print(\"没有已读条目，所有条目设置为未读。\")\n",
    "\n",
    "# 保存DataFrame回到CSV文件，不包括索引\n",
    "df.to_csv('../../../data/raw/ids_for_api_use.csv', index=False)\n"
   ]
  },
  {
   "cell_type": "markdown",
   "metadata": {},
   "source": [
    "### 定义SteamAPI类"
   ]
  },
  {
   "cell_type": "code",
   "execution_count": 3,
   "metadata": {},
   "outputs": [],
   "source": [
    "class SteamAPI:\n",
    "    '''初始化，创建构造器'''\n",
    "    def __init__(self, api_key, steam_id, session):\n",
    "        self.api_key = api_key\n",
    "        self.steam_id = steam_id\n",
    "        self.session = session\n",
    "\n",
    "    '''定义抓取数据函数'''\n",
    "    async def fetch(self, url):\n",
    "        try:\n",
    "            async with self.session.get(url) as response:\n",
    "                response.raise_for_status()\n",
    "                return await response.json() # 返回数据为json格式\n",
    "        except aiohttp.ClientResponseError as e:\n",
    "            print(f\"HTTP Error: {e.status} for URL: {url}\")\n",
    "        except aiohttp.ClientError as e:\n",
    "            print(f\"Client Error: {str(e)} for URL: {url}\")\n",
    "        except asyncio.TimeoutError:\n",
    "            print(f\"TimeoutError: Request to {url} timed out\")\n",
    "        return None\n",
    "\n",
    "    async def get_player_info(self): # 抓取用户个人资料\n",
    "        player_info_url = f\"http://api.steampowered.com/ISteamUser/GetPlayerSummaries/v0002/?key={self.api_key}&steamids={self.steam_id}\"\n",
    "        return await self.fetch(player_info_url)\n",
    "\n",
    "    async def get_player_games(self): # 抓取用户游戏信息\n",
    "        player_games_url = f\"https://api.steampowered.com/IPlayerService/GetOwnedGames/v0001/?key={self.api_key}&steamid={self.steam_id}&format=json&include_appinfo=true&include_extended_appinfo=true\"\n",
    "        return await self.fetch(player_games_url)\n",
    "\n",
    "    # async def get_player_friends(self): # 抓取用户好友信息\n",
    "    #     player_friends_url = f\"http://api.steampowered.com/ISteamUser/GetFriendList/v0001/?key={self.api_key}&steamid={self.steam_id}&relationship=friend\"\n",
    "    #     return await self.fetch(player_friends_url)\n",
    "    \n",
    "    async def get_recently_played_games(self): # 抓取过去两周好友游玩时长\n",
    "        player_recently_played_games_url = f\"http://api.steampowered.com/IPlayerService/GetRecentlyPlayedGames/v0001/?key={self.api_key}&steamid={self.steam_id}&&format=json&count=3\"\n",
    "        return await self.fetch(player_recently_played_games_url)    \n",
    "\n",
    "    async def run(self):\n",
    "        return {\n",
    "            'player_info': await self.get_player_info(),\n",
    "            'player_games': await self.get_player_games(),\n",
    "            # 'player_friends': await self.get_player_friends(),\n",
    "            'recently_played_games': await self.get_recently_played_games()\n",
    "        }"
   ]
  },
  {
   "cell_type": "markdown",
   "metadata": {},
   "source": [
    "save data"
   ]
  },
  {
   "cell_type": "code",
   "execution_count": 4,
   "metadata": {},
   "outputs": [],
   "source": [
    "async def save_json(filename, data):\n",
    "    async with aiofiles.open(filename, 'a') as f:\n",
    "        await f.write(json.dumps(data, indent=4) + ',\\n')"
   ]
  },
  {
   "cell_type": "markdown",
   "metadata": {},
   "source": [
    "handle_steam_ids"
   ]
  },
  {
   "cell_type": "code",
   "execution_count": 5,
   "metadata": {},
   "outputs": [],
   "source": [
    "'''异步获取并处理指定 Steam 用户数据,semaphore是顶层设计，同一时间的信号数'''\n",
    "async def handle_steam_id(api_key, steam_id, session, semaphore):\n",
    "    async with semaphore:\n",
    "        steam_api = SteamAPI(api_key, steam_id, session)\n",
    "        result = await steam_api.run()\n",
    "        return {steam_id: result}"
   ]
  },
  {
   "cell_type": "markdown",
   "metadata": {},
   "source": [
    "process batches"
   ]
  },
  {
   "cell_type": "code",
   "execution_count": 6,
   "metadata": {},
   "outputs": [],
   "source": [
    "'''处理一批先前的return字典信息，组织成列表，并将处理结果保存到 JSON 文件中'''\n",
    "\n",
    "async def process_batch(api_key, batch, session, semaphore, filename, df):\n",
    "    tasks = [handle_steam_id(api_key, steam_id, session, semaphore) for steam_id in batch]\n",
    "    results = await asyncio.gather(*tasks)\n",
    "    await save_json(filename, results)\n",
    "    \n",
    "    # 标记已处理过的 IDs\n",
    "    for steam_id in batch:\n",
    "        df.loc[df['key'] == steam_id, 'read_or_not'] = 1\n",
    "    # 实时保存更新后的CSV文件\n",
    "    df.to_csv('../../../data/raw/ids_for_api_use.csv',index = False)"
   ]
  },
  {
   "cell_type": "markdown",
   "metadata": {},
   "source": [
    "get_next_filename"
   ]
  },
  {
   "cell_type": "code",
   "execution_count": 7,
   "metadata": {},
   "outputs": [],
   "source": [
    "'''获取下一个可用的文件名，例如：当没有all_steam_data1.json时候就用'''\n",
    "def get_next_filename(base_path, base_name, extension):\n",
    "    index = 1\n",
    "    while True:\n",
    "        filename = os.path.join(base_path, f\"{base_name}{index}.{extension}\") # 生成结构化文件\n",
    "        if not os.path.exists(filename):\n",
    "            return filename\n",
    "        index += 1"
   ]
  },
  {
   "cell_type": "markdown",
   "metadata": {},
   "source": [
    "main process"
   ]
  },
  {
   "cell_type": "code",
   "execution_count": 8,
   "metadata": {},
   "outputs": [],
   "source": [
    "async def main():\n",
    "    api_key = os.getenv('STEAM_API_KEY2')\n",
    "    df = pd.read_csv(r'../../../data/raw/ids_for_api_use.csv')\n",
    "    start_index = df[df['read_or_not'] == 0].index[0]\n",
    "    steam_ids = df.loc[start_index:, 'key'].tolist()\n",
    "    semaphore = asyncio.Semaphore(5) \n",
    "    batch_size = 5\n",
    "    base_path = '../../../data/raw'\n",
    "    base_name = 'all_steam_data'\n",
    "    extension = 'json'\n",
    "\n",
    "    # 获取下一个可用的文件名\n",
    "    filename = get_next_filename(base_path, base_name, extension)\n",
    "\n",
    "    timeout = aiohttp.ClientTimeout(total=6)  # 设置总超时时间为6秒\n",
    "    connector = aiohttp.TCPConnector(limit_per_host=5)\n",
    "    async with aiohttp.ClientSession(connector=connector, timeout=timeout) as session:\n",
    "        for i in range(0, len(steam_ids), batch_size):\n",
    "            batch = steam_ids[i:i + batch_size]\n",
    "            await process_batch(api_key, batch, session, semaphore, filename,df)\n",
    "            await asyncio.sleep(2)\n",
    "            gc.collect()\n"
   ]
  },
  {
   "cell_type": "markdown",
   "metadata": {},
   "source": [
    "网络正常大约运行1小时左右"
   ]
  },
  {
   "cell_type": "code",
   "execution_count": 9,
   "metadata": {},
   "outputs": [
    {
     "name": "stdout",
     "output_type": "stream",
     "text": [
      "TimeoutError: Request to https://api.steampowered.com/IPlayerService/GetOwnedGames/v0001/?key=18AC56134E6536548A169A54F04B1C71&steamid=76561197998782939&format=json&include_appinfo=true&include_extended_appinfo=true timed out\n",
      "TimeoutError: Request to https://api.steampowered.com/IPlayerService/GetOwnedGames/v0001/?key=18AC56134E6536548A169A54F04B1C71&steamid=76561198185003786&format=json&include_appinfo=true&include_extended_appinfo=true timed out\n",
      "TimeoutError: Request to https://api.steampowered.com/IPlayerService/GetOwnedGames/v0001/?key=18AC56134E6536548A169A54F04B1C71&steamid=76561197993499447&format=json&include_appinfo=true&include_extended_appinfo=true timed out\n",
      "TimeoutError: Request to https://api.steampowered.com/IPlayerService/GetOwnedGames/v0001/?key=18AC56134E6536548A169A54F04B1C71&steamid=76561199359257120&format=json&include_appinfo=true&include_extended_appinfo=true timed out\n",
      "TimeoutError: Request to https://api.steampowered.com/IPlayerService/GetOwnedGames/v0001/?key=18AC56134E6536548A169A54F04B1C71&steamid=76561198267745066&format=json&include_appinfo=true&include_extended_appinfo=true timed out\n",
      "TimeoutError: Request to https://api.steampowered.com/IPlayerService/GetOwnedGames/v0001/?key=18AC56134E6536548A169A54F04B1C71&steamid=76561198076887728&format=json&include_appinfo=true&include_extended_appinfo=true timed out\n",
      "TimeoutError: Request to https://api.steampowered.com/IPlayerService/GetOwnedGames/v0001/?key=18AC56134E6536548A169A54F04B1C71&steamid=76561198046079431&format=json&include_appinfo=true&include_extended_appinfo=true timed out\n",
      "TimeoutError: Request to https://api.steampowered.com/IPlayerService/GetOwnedGames/v0001/?key=18AC56134E6536548A169A54F04B1C71&steamid=76561198264281883&format=json&include_appinfo=true&include_extended_appinfo=true timed out\n",
      "TimeoutError: Request to https://api.steampowered.com/IPlayerService/GetOwnedGames/v0001/?key=18AC56134E6536548A169A54F04B1C71&steamid=76561197991857495&format=json&include_appinfo=true&include_extended_appinfo=true timed out\n",
      "TimeoutError: Request to https://api.steampowered.com/IPlayerService/GetOwnedGames/v0001/?key=18AC56134E6536548A169A54F04B1C71&steamid=76561198146209203&format=json&include_appinfo=true&include_extended_appinfo=true timed out\n",
      "TimeoutError: Request to https://api.steampowered.com/IPlayerService/GetOwnedGames/v0001/?key=18AC56134E6536548A169A54F04B1C71&steamid=76561198047780647&format=json&include_appinfo=true&include_extended_appinfo=true timed out\n",
      "TimeoutError: Request to https://api.steampowered.com/IPlayerService/GetOwnedGames/v0001/?key=18AC56134E6536548A169A54F04B1C71&steamid=76561198023043962&format=json&include_appinfo=true&include_extended_appinfo=true timed out\n",
      "TimeoutError: Request to https://api.steampowered.com/IPlayerService/GetOwnedGames/v0001/?key=18AC56134E6536548A169A54F04B1C71&steamid=76561198051006392&format=json&include_appinfo=true&include_extended_appinfo=true timed out\n",
      "TimeoutError: Request to https://api.steampowered.com/IPlayerService/GetOwnedGames/v0001/?key=18AC56134E6536548A169A54F04B1C71&steamid=76561198446239062&format=json&include_appinfo=true&include_extended_appinfo=true timed out\n",
      "TimeoutError: Request to https://api.steampowered.com/IPlayerService/GetOwnedGames/v0001/?key=18AC56134E6536548A169A54F04B1C71&steamid=76561197983555793&format=json&include_appinfo=true&include_extended_appinfo=true timed out\n"
     ]
    },
    {
     "ename": "CancelledError",
     "evalue": "",
     "output_type": "error",
     "traceback": [
      "\u001b[1;31m---------------------------------------------------------------------------\u001b[0m",
      "\u001b[1;31mCancelledError\u001b[0m                            Traceback (most recent call last)",
      "Cell \u001b[1;32mIn[9], line 1\u001b[0m\n\u001b[1;32m----> 1\u001b[0m \u001b[38;5;28;01mawait\u001b[39;00m main()\n",
      "Cell \u001b[1;32mIn[8], line 20\u001b[0m, in \u001b[0;36mmain\u001b[1;34m()\u001b[0m\n\u001b[0;32m     18\u001b[0m \u001b[38;5;28;01mfor\u001b[39;00m i \u001b[38;5;129;01min\u001b[39;00m \u001b[38;5;28mrange\u001b[39m(\u001b[38;5;241m0\u001b[39m, \u001b[38;5;28mlen\u001b[39m(steam_ids), batch_size):\n\u001b[0;32m     19\u001b[0m     batch \u001b[38;5;241m=\u001b[39m steam_ids[i:i \u001b[38;5;241m+\u001b[39m batch_size]\n\u001b[1;32m---> 20\u001b[0m     \u001b[38;5;28;01mawait\u001b[39;00m process_batch(api_key, batch, session, semaphore, filename,df)\n\u001b[0;32m     21\u001b[0m     \u001b[38;5;28;01mawait\u001b[39;00m asyncio\u001b[38;5;241m.\u001b[39msleep(\u001b[38;5;241m2\u001b[39m)\n\u001b[0;32m     22\u001b[0m     gc\u001b[38;5;241m.\u001b[39mcollect()\n",
      "Cell \u001b[1;32mIn[6], line 5\u001b[0m, in \u001b[0;36mprocess_batch\u001b[1;34m(api_key, batch, session, semaphore, filename, df)\u001b[0m\n\u001b[0;32m      3\u001b[0m \u001b[38;5;28;01masync\u001b[39;00m \u001b[38;5;28;01mdef\u001b[39;00m \u001b[38;5;21mprocess_batch\u001b[39m(api_key, batch, session, semaphore, filename, df):\n\u001b[0;32m      4\u001b[0m     tasks \u001b[38;5;241m=\u001b[39m [handle_steam_id(api_key, steam_id, session, semaphore) \u001b[38;5;28;01mfor\u001b[39;00m steam_id \u001b[38;5;129;01min\u001b[39;00m batch]\n\u001b[1;32m----> 5\u001b[0m     results \u001b[38;5;241m=\u001b[39m \u001b[38;5;28;01mawait\u001b[39;00m asyncio\u001b[38;5;241m.\u001b[39mgather(\u001b[38;5;241m*\u001b[39mtasks)\n\u001b[0;32m      6\u001b[0m     \u001b[38;5;28;01mawait\u001b[39;00m save_json(filename, results)\n\u001b[0;32m      8\u001b[0m     \u001b[38;5;66;03m# 标记已处理过的 IDs\u001b[39;00m\n",
      "Cell \u001b[1;32mIn[5], line 5\u001b[0m, in \u001b[0;36mhandle_steam_id\u001b[1;34m(api_key, steam_id, session, semaphore)\u001b[0m\n\u001b[0;32m      3\u001b[0m \u001b[38;5;28;01masync\u001b[39;00m \u001b[38;5;28;01mwith\u001b[39;00m semaphore:\n\u001b[0;32m      4\u001b[0m     steam_api \u001b[38;5;241m=\u001b[39m SteamAPI(api_key, steam_id, session)\n\u001b[1;32m----> 5\u001b[0m     result \u001b[38;5;241m=\u001b[39m \u001b[38;5;28;01mawait\u001b[39;00m steam_api\u001b[38;5;241m.\u001b[39mrun()\n\u001b[0;32m      6\u001b[0m     \u001b[38;5;28;01mreturn\u001b[39;00m {steam_id: result}\n",
      "Cell \u001b[1;32mIn[3], line 41\u001b[0m, in \u001b[0;36mSteamAPI.run\u001b[1;34m(self)\u001b[0m\n\u001b[0;32m     38\u001b[0m \u001b[38;5;28;01masync\u001b[39;00m \u001b[38;5;28;01mdef\u001b[39;00m \u001b[38;5;21mrun\u001b[39m(\u001b[38;5;28mself\u001b[39m):\n\u001b[0;32m     39\u001b[0m     \u001b[38;5;28;01mreturn\u001b[39;00m {\n\u001b[0;32m     40\u001b[0m         \u001b[38;5;124m'\u001b[39m\u001b[38;5;124mplayer_info\u001b[39m\u001b[38;5;124m'\u001b[39m: \u001b[38;5;28;01mawait\u001b[39;00m \u001b[38;5;28mself\u001b[39m\u001b[38;5;241m.\u001b[39mget_player_info(),\n\u001b[1;32m---> 41\u001b[0m         \u001b[38;5;124m'\u001b[39m\u001b[38;5;124mplayer_games\u001b[39m\u001b[38;5;124m'\u001b[39m: \u001b[38;5;28;01mawait\u001b[39;00m \u001b[38;5;28mself\u001b[39m\u001b[38;5;241m.\u001b[39mget_player_games(),\n\u001b[0;32m     42\u001b[0m         \u001b[38;5;66;03m# 'player_friends': await self.get_player_friends(),\u001b[39;00m\n\u001b[0;32m     43\u001b[0m         \u001b[38;5;124m'\u001b[39m\u001b[38;5;124mrecently_played_games\u001b[39m\u001b[38;5;124m'\u001b[39m: \u001b[38;5;28;01mawait\u001b[39;00m \u001b[38;5;28mself\u001b[39m\u001b[38;5;241m.\u001b[39mget_recently_played_games()\n\u001b[0;32m     44\u001b[0m     }\n",
      "Cell \u001b[1;32mIn[3], line 28\u001b[0m, in \u001b[0;36mSteamAPI.get_player_games\u001b[1;34m(self)\u001b[0m\n\u001b[0;32m     26\u001b[0m \u001b[38;5;28;01masync\u001b[39;00m \u001b[38;5;28;01mdef\u001b[39;00m \u001b[38;5;21mget_player_games\u001b[39m(\u001b[38;5;28mself\u001b[39m): \u001b[38;5;66;03m# 抓取用户游戏信息\u001b[39;00m\n\u001b[0;32m     27\u001b[0m     player_games_url \u001b[38;5;241m=\u001b[39m \u001b[38;5;124mf\u001b[39m\u001b[38;5;124m\"\u001b[39m\u001b[38;5;124mhttps://api.steampowered.com/IPlayerService/GetOwnedGames/v0001/?key=\u001b[39m\u001b[38;5;132;01m{\u001b[39;00m\u001b[38;5;28mself\u001b[39m\u001b[38;5;241m.\u001b[39mapi_key\u001b[38;5;132;01m}\u001b[39;00m\u001b[38;5;124m&steamid=\u001b[39m\u001b[38;5;132;01m{\u001b[39;00m\u001b[38;5;28mself\u001b[39m\u001b[38;5;241m.\u001b[39msteam_id\u001b[38;5;132;01m}\u001b[39;00m\u001b[38;5;124m&format=json&include_appinfo=true&include_extended_appinfo=true\u001b[39m\u001b[38;5;124m\"\u001b[39m\n\u001b[1;32m---> 28\u001b[0m     \u001b[38;5;28;01mreturn\u001b[39;00m \u001b[38;5;28;01mawait\u001b[39;00m \u001b[38;5;28mself\u001b[39m\u001b[38;5;241m.\u001b[39mfetch(player_games_url)\n",
      "Cell \u001b[1;32mIn[3], line 11\u001b[0m, in \u001b[0;36mSteamAPI.fetch\u001b[1;34m(self, url)\u001b[0m\n\u001b[0;32m      9\u001b[0m \u001b[38;5;28;01masync\u001b[39;00m \u001b[38;5;28;01mdef\u001b[39;00m \u001b[38;5;21mfetch\u001b[39m(\u001b[38;5;28mself\u001b[39m, url):\n\u001b[0;32m     10\u001b[0m     \u001b[38;5;28;01mtry\u001b[39;00m:\n\u001b[1;32m---> 11\u001b[0m         \u001b[38;5;28;01masync\u001b[39;00m \u001b[38;5;28;01mwith\u001b[39;00m \u001b[38;5;28mself\u001b[39m\u001b[38;5;241m.\u001b[39msession\u001b[38;5;241m.\u001b[39mget(url) \u001b[38;5;28;01mas\u001b[39;00m response:\n\u001b[0;32m     12\u001b[0m             response\u001b[38;5;241m.\u001b[39mraise_for_status()\n\u001b[0;32m     13\u001b[0m             \u001b[38;5;28;01mreturn\u001b[39;00m \u001b[38;5;28;01mawait\u001b[39;00m response\u001b[38;5;241m.\u001b[39mjson() \u001b[38;5;66;03m# 返回数据为json格式\u001b[39;00m\n",
      "File \u001b[1;32mc:\\Users\\55386\\anaconda3\\envs\\Zeyu_for_data_analyze_use\\Lib\\site-packages\\aiohttp\\client.py:1194\u001b[0m, in \u001b[0;36m_BaseRequestContextManager.__aenter__\u001b[1;34m(self)\u001b[0m\n\u001b[0;32m   1193\u001b[0m \u001b[38;5;28;01masync\u001b[39;00m \u001b[38;5;28;01mdef\u001b[39;00m \u001b[38;5;21m__aenter__\u001b[39m(\u001b[38;5;28mself\u001b[39m) \u001b[38;5;241m-\u001b[39m\u001b[38;5;241m>\u001b[39m _RetType:\n\u001b[1;32m-> 1194\u001b[0m     \u001b[38;5;28mself\u001b[39m\u001b[38;5;241m.\u001b[39m_resp \u001b[38;5;241m=\u001b[39m \u001b[38;5;28;01mawait\u001b[39;00m \u001b[38;5;28mself\u001b[39m\u001b[38;5;241m.\u001b[39m_coro\n\u001b[0;32m   1195\u001b[0m     \u001b[38;5;28;01mreturn\u001b[39;00m \u001b[38;5;28mself\u001b[39m\u001b[38;5;241m.\u001b[39m_resp\n",
      "File \u001b[1;32mc:\\Users\\55386\\anaconda3\\envs\\Zeyu_for_data_analyze_use\\Lib\\site-packages\\aiohttp\\client.py:578\u001b[0m, in \u001b[0;36mClientSession._request\u001b[1;34m(self, method, str_or_url, params, data, json, cookies, headers, skip_auto_headers, auth, allow_redirects, max_redirects, compress, chunked, expect100, raise_for_status, read_until_eof, proxy, proxy_auth, timeout, verify_ssl, fingerprint, ssl_context, ssl, server_hostname, proxy_headers, trace_request_ctx, read_bufsize, auto_decompress, max_line_size, max_field_size)\u001b[0m\n\u001b[0;32m    573\u001b[0m     \u001b[38;5;28;01masync\u001b[39;00m \u001b[38;5;28;01mwith\u001b[39;00m ceil_timeout(\n\u001b[0;32m    574\u001b[0m         real_timeout\u001b[38;5;241m.\u001b[39mconnect,\n\u001b[0;32m    575\u001b[0m         ceil_threshold\u001b[38;5;241m=\u001b[39mreal_timeout\u001b[38;5;241m.\u001b[39mceil_threshold,\n\u001b[0;32m    576\u001b[0m     ):\n\u001b[0;32m    577\u001b[0m         \u001b[38;5;28;01massert\u001b[39;00m \u001b[38;5;28mself\u001b[39m\u001b[38;5;241m.\u001b[39m_connector \u001b[38;5;129;01mis\u001b[39;00m \u001b[38;5;129;01mnot\u001b[39;00m \u001b[38;5;28;01mNone\u001b[39;00m\n\u001b[1;32m--> 578\u001b[0m         conn \u001b[38;5;241m=\u001b[39m \u001b[38;5;28;01mawait\u001b[39;00m \u001b[38;5;28mself\u001b[39m\u001b[38;5;241m.\u001b[39m_connector\u001b[38;5;241m.\u001b[39mconnect(\n\u001b[0;32m    579\u001b[0m             req, traces\u001b[38;5;241m=\u001b[39mtraces, timeout\u001b[38;5;241m=\u001b[39mreal_timeout\n\u001b[0;32m    580\u001b[0m         )\n\u001b[0;32m    581\u001b[0m \u001b[38;5;28;01mexcept\u001b[39;00m asyncio\u001b[38;5;241m.\u001b[39mTimeoutError \u001b[38;5;28;01mas\u001b[39;00m exc:\n\u001b[0;32m    582\u001b[0m     \u001b[38;5;28;01mraise\u001b[39;00m ServerTimeoutError(\n\u001b[0;32m    583\u001b[0m         \u001b[38;5;124m\"\u001b[39m\u001b[38;5;124mConnection timeout \u001b[39m\u001b[38;5;124m\"\u001b[39m \u001b[38;5;124m\"\u001b[39m\u001b[38;5;124mto host \u001b[39m\u001b[38;5;132;01m{}\u001b[39;00m\u001b[38;5;124m\"\u001b[39m\u001b[38;5;241m.\u001b[39mformat(url)\n\u001b[0;32m    584\u001b[0m     ) \u001b[38;5;28;01mfrom\u001b[39;00m \u001b[38;5;21;01mexc\u001b[39;00m\n",
      "File \u001b[1;32mc:\\Users\\55386\\anaconda3\\envs\\Zeyu_for_data_analyze_use\\Lib\\site-packages\\aiohttp\\connector.py:544\u001b[0m, in \u001b[0;36mBaseConnector.connect\u001b[1;34m(self, req, traces, timeout)\u001b[0m\n\u001b[0;32m    541\u001b[0m         \u001b[38;5;28;01mawait\u001b[39;00m trace\u001b[38;5;241m.\u001b[39msend_connection_create_start()\n\u001b[0;32m    543\u001b[0m \u001b[38;5;28;01mtry\u001b[39;00m:\n\u001b[1;32m--> 544\u001b[0m     proto \u001b[38;5;241m=\u001b[39m \u001b[38;5;28;01mawait\u001b[39;00m \u001b[38;5;28mself\u001b[39m\u001b[38;5;241m.\u001b[39m_create_connection(req, traces, timeout)\n\u001b[0;32m    545\u001b[0m     \u001b[38;5;28;01mif\u001b[39;00m \u001b[38;5;28mself\u001b[39m\u001b[38;5;241m.\u001b[39m_closed:\n\u001b[0;32m    546\u001b[0m         proto\u001b[38;5;241m.\u001b[39mclose()\n",
      "File \u001b[1;32mc:\\Users\\55386\\anaconda3\\envs\\Zeyu_for_data_analyze_use\\Lib\\site-packages\\aiohttp\\connector.py:911\u001b[0m, in \u001b[0;36mTCPConnector._create_connection\u001b[1;34m(self, req, traces, timeout)\u001b[0m\n\u001b[0;32m    909\u001b[0m     _, proto \u001b[38;5;241m=\u001b[39m \u001b[38;5;28;01mawait\u001b[39;00m \u001b[38;5;28mself\u001b[39m\u001b[38;5;241m.\u001b[39m_create_proxy_connection(req, traces, timeout)\n\u001b[0;32m    910\u001b[0m \u001b[38;5;28;01melse\u001b[39;00m:\n\u001b[1;32m--> 911\u001b[0m     _, proto \u001b[38;5;241m=\u001b[39m \u001b[38;5;28;01mawait\u001b[39;00m \u001b[38;5;28mself\u001b[39m\u001b[38;5;241m.\u001b[39m_create_direct_connection(req, traces, timeout)\n\u001b[0;32m    913\u001b[0m \u001b[38;5;28;01mreturn\u001b[39;00m proto\n",
      "File \u001b[1;32mc:\\Users\\55386\\anaconda3\\envs\\Zeyu_for_data_analyze_use\\Lib\\site-packages\\aiohttp\\connector.py:1204\u001b[0m, in \u001b[0;36mTCPConnector._create_direct_connection\u001b[1;34m(self, req, traces, timeout, client_error)\u001b[0m\n\u001b[0;32m   1197\u001b[0m server_hostname \u001b[38;5;241m=\u001b[39m (\n\u001b[0;32m   1198\u001b[0m     (req\u001b[38;5;241m.\u001b[39mserver_hostname \u001b[38;5;129;01mor\u001b[39;00m hinfo[\u001b[38;5;124m\"\u001b[39m\u001b[38;5;124mhostname\u001b[39m\u001b[38;5;124m\"\u001b[39m])\u001b[38;5;241m.\u001b[39mrstrip(\u001b[38;5;124m\"\u001b[39m\u001b[38;5;124m.\u001b[39m\u001b[38;5;124m\"\u001b[39m)\n\u001b[0;32m   1199\u001b[0m     \u001b[38;5;28;01mif\u001b[39;00m sslcontext\n\u001b[0;32m   1200\u001b[0m     \u001b[38;5;28;01melse\u001b[39;00m \u001b[38;5;28;01mNone\u001b[39;00m\n\u001b[0;32m   1201\u001b[0m )\n\u001b[0;32m   1203\u001b[0m \u001b[38;5;28;01mtry\u001b[39;00m:\n\u001b[1;32m-> 1204\u001b[0m     transp, proto \u001b[38;5;241m=\u001b[39m \u001b[38;5;28;01mawait\u001b[39;00m \u001b[38;5;28mself\u001b[39m\u001b[38;5;241m.\u001b[39m_wrap_create_connection(\n\u001b[0;32m   1205\u001b[0m         \u001b[38;5;28mself\u001b[39m\u001b[38;5;241m.\u001b[39m_factory,\n\u001b[0;32m   1206\u001b[0m         host,\n\u001b[0;32m   1207\u001b[0m         port,\n\u001b[0;32m   1208\u001b[0m         timeout\u001b[38;5;241m=\u001b[39mtimeout,\n\u001b[0;32m   1209\u001b[0m         ssl\u001b[38;5;241m=\u001b[39msslcontext,\n\u001b[0;32m   1210\u001b[0m         family\u001b[38;5;241m=\u001b[39mhinfo[\u001b[38;5;124m\"\u001b[39m\u001b[38;5;124mfamily\u001b[39m\u001b[38;5;124m\"\u001b[39m],\n\u001b[0;32m   1211\u001b[0m         proto\u001b[38;5;241m=\u001b[39mhinfo[\u001b[38;5;124m\"\u001b[39m\u001b[38;5;124mproto\u001b[39m\u001b[38;5;124m\"\u001b[39m],\n\u001b[0;32m   1212\u001b[0m         flags\u001b[38;5;241m=\u001b[39mhinfo[\u001b[38;5;124m\"\u001b[39m\u001b[38;5;124mflags\u001b[39m\u001b[38;5;124m\"\u001b[39m],\n\u001b[0;32m   1213\u001b[0m         server_hostname\u001b[38;5;241m=\u001b[39mserver_hostname,\n\u001b[0;32m   1214\u001b[0m         local_addr\u001b[38;5;241m=\u001b[39m\u001b[38;5;28mself\u001b[39m\u001b[38;5;241m.\u001b[39m_local_addr,\n\u001b[0;32m   1215\u001b[0m         req\u001b[38;5;241m=\u001b[39mreq,\n\u001b[0;32m   1216\u001b[0m         client_error\u001b[38;5;241m=\u001b[39mclient_error,\n\u001b[0;32m   1217\u001b[0m     )\n\u001b[0;32m   1218\u001b[0m \u001b[38;5;28;01mexcept\u001b[39;00m ClientConnectorError \u001b[38;5;28;01mas\u001b[39;00m exc:\n\u001b[0;32m   1219\u001b[0m     last_exc \u001b[38;5;241m=\u001b[39m exc\n",
      "File \u001b[1;32mc:\\Users\\55386\\anaconda3\\envs\\Zeyu_for_data_analyze_use\\Lib\\site-packages\\aiohttp\\connector.py:992\u001b[0m, in \u001b[0;36mTCPConnector._wrap_create_connection\u001b[1;34m(self, req, timeout, client_error, *args, **kwargs)\u001b[0m\n\u001b[0;32m    988\u001b[0m \u001b[38;5;28;01mtry\u001b[39;00m:\n\u001b[0;32m    989\u001b[0m     \u001b[38;5;28;01masync\u001b[39;00m \u001b[38;5;28;01mwith\u001b[39;00m ceil_timeout(\n\u001b[0;32m    990\u001b[0m         timeout\u001b[38;5;241m.\u001b[39msock_connect, ceil_threshold\u001b[38;5;241m=\u001b[39mtimeout\u001b[38;5;241m.\u001b[39mceil_threshold\n\u001b[0;32m    991\u001b[0m     ):\n\u001b[1;32m--> 992\u001b[0m         \u001b[38;5;28;01mreturn\u001b[39;00m \u001b[38;5;28;01mawait\u001b[39;00m \u001b[38;5;28mself\u001b[39m\u001b[38;5;241m.\u001b[39m_loop\u001b[38;5;241m.\u001b[39mcreate_connection(\u001b[38;5;241m*\u001b[39margs, \u001b[38;5;241m*\u001b[39m\u001b[38;5;241m*\u001b[39mkwargs)\n\u001b[0;32m    993\u001b[0m \u001b[38;5;28;01mexcept\u001b[39;00m cert_errors \u001b[38;5;28;01mas\u001b[39;00m exc:\n\u001b[0;32m    994\u001b[0m     \u001b[38;5;28;01mraise\u001b[39;00m ClientConnectorCertificateError(req\u001b[38;5;241m.\u001b[39mconnection_key, exc) \u001b[38;5;28;01mfrom\u001b[39;00m \u001b[38;5;21;01mexc\u001b[39;00m\n",
      "File \u001b[1;32mc:\\Users\\55386\\anaconda3\\envs\\Zeyu_for_data_analyze_use\\Lib\\asyncio\\base_events.py:1070\u001b[0m, in \u001b[0;36mBaseEventLoop.create_connection\u001b[1;34m(self, protocol_factory, host, port, ssl, family, proto, flags, sock, local_addr, server_hostname, ssl_handshake_timeout, ssl_shutdown_timeout, happy_eyeballs_delay, interleave)\u001b[0m\n\u001b[0;32m   1068\u001b[0m \u001b[38;5;28;01mfor\u001b[39;00m addrinfo \u001b[38;5;129;01min\u001b[39;00m infos:\n\u001b[0;32m   1069\u001b[0m     \u001b[38;5;28;01mtry\u001b[39;00m:\n\u001b[1;32m-> 1070\u001b[0m         sock \u001b[38;5;241m=\u001b[39m \u001b[38;5;28;01mawait\u001b[39;00m \u001b[38;5;28mself\u001b[39m\u001b[38;5;241m.\u001b[39m_connect_sock(\n\u001b[0;32m   1071\u001b[0m             exceptions, addrinfo, laddr_infos)\n\u001b[0;32m   1072\u001b[0m         \u001b[38;5;28;01mbreak\u001b[39;00m\n\u001b[0;32m   1073\u001b[0m     \u001b[38;5;28;01mexcept\u001b[39;00m \u001b[38;5;167;01mOSError\u001b[39;00m:\n",
      "File \u001b[1;32mc:\\Users\\55386\\anaconda3\\envs\\Zeyu_for_data_analyze_use\\Lib\\asyncio\\base_events.py:974\u001b[0m, in \u001b[0;36mBaseEventLoop._connect_sock\u001b[1;34m(self, exceptions, addr_info, local_addr_infos)\u001b[0m\n\u001b[0;32m    972\u001b[0m             \u001b[38;5;28;01melse\u001b[39;00m:\n\u001b[0;32m    973\u001b[0m                 \u001b[38;5;28;01mraise\u001b[39;00m \u001b[38;5;167;01mOSError\u001b[39;00m(\u001b[38;5;124mf\u001b[39m\u001b[38;5;124m\"\u001b[39m\u001b[38;5;124mno matching local address with \u001b[39m\u001b[38;5;132;01m{\u001b[39;00mfamily\u001b[38;5;132;01m=}\u001b[39;00m\u001b[38;5;124m found\u001b[39m\u001b[38;5;124m\"\u001b[39m)\n\u001b[1;32m--> 974\u001b[0m     \u001b[38;5;28;01mawait\u001b[39;00m \u001b[38;5;28mself\u001b[39m\u001b[38;5;241m.\u001b[39msock_connect(sock, address)\n\u001b[0;32m    975\u001b[0m     \u001b[38;5;28;01mreturn\u001b[39;00m sock\n\u001b[0;32m    976\u001b[0m \u001b[38;5;28;01mexcept\u001b[39;00m \u001b[38;5;167;01mOSError\u001b[39;00m \u001b[38;5;28;01mas\u001b[39;00m exc:\n",
      "File \u001b[1;32mc:\\Users\\55386\\anaconda3\\envs\\Zeyu_for_data_analyze_use\\Lib\\asyncio\\proactor_events.py:726\u001b[0m, in \u001b[0;36mBaseProactorEventLoop.sock_connect\u001b[1;34m(self, sock, address)\u001b[0m\n\u001b[0;32m    725\u001b[0m \u001b[38;5;28;01masync\u001b[39;00m \u001b[38;5;28;01mdef\u001b[39;00m \u001b[38;5;21msock_connect\u001b[39m(\u001b[38;5;28mself\u001b[39m, sock, address):\n\u001b[1;32m--> 726\u001b[0m     \u001b[38;5;28;01mreturn\u001b[39;00m \u001b[38;5;28;01mawait\u001b[39;00m \u001b[38;5;28mself\u001b[39m\u001b[38;5;241m.\u001b[39m_proactor\u001b[38;5;241m.\u001b[39mconnect(sock, address)\n",
      "\u001b[1;31mCancelledError\u001b[0m: "
     ]
    }
   ],
   "source": [
    "await main()"
   ]
  }
 ],
 "metadata": {
  "kernelspec": {
   "display_name": "Zeyu_for_data_analyze_use",
   "language": "python",
   "name": "python3"
  },
  "language_info": {
   "codemirror_mode": {
    "name": "ipython",
    "version": 3
   },
   "file_extension": ".py",
   "mimetype": "text/x-python",
   "name": "python",
   "nbconvert_exporter": "python",
   "pygments_lexer": "ipython3",
   "version": "3.11.8"
  }
 },
 "nbformat": 4,
 "nbformat_minor": 2
}
