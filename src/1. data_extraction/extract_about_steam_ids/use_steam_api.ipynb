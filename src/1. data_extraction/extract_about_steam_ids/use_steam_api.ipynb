{
 "cells": [
  {
   "cell_type": "markdown",
   "metadata": {},
   "source": [
    "### 导入必要工具包"
   ]
  },
  {
   "cell_type": "code",
   "execution_count": 1,
   "metadata": {},
   "outputs": [],
   "source": [
    "import aiohttp\n",
    "import asyncio\n",
    "import aiofiles\n",
    "import json\n",
    "import pandas as pd\n",
    "import gc # 防止内存泄漏\n",
    "import os"
   ]
  },
  {
   "cell_type": "markdown",
   "metadata": {},
   "source": [
    "### 初始化CSV文件"
   ]
  },
  {
   "cell_type": "markdown",
   "metadata": {},
   "source": [
    "首先先要在ids_for_api_use.csv文件中添加一列read or not用于后续调用api时被系统判断是否被读取过。<br>\n",
    "原因是识别到哪些账号已经被fetch过，能够继续在没有检索过的ids里继续自动fetch。<br>"
   ]
  },
  {
   "cell_type": "code",
   "execution_count": 2,
   "metadata": {},
   "outputs": [
    {
     "name": "stdout",
     "output_type": "stream",
     "text": [
      "存在已读条目。\n"
     ]
    }
   ],
   "source": [
    "\n",
    "# 读取CSV文件\n",
    "df = pd.read_csv('../../../data/raw/ids_for_api_use.csv')\n",
    "\n",
    "# 检查 'read_or_not' 列是否存在\n",
    "if 'read_or_not' not in df.columns:\n",
    "    # 如果 'read_or_not' 列不存在，则创建这列并将所有值初始化为0\n",
    "    df['read_or_not'] = 0\n",
    "    print(\"初始化 'read_or_not' 列为0，因为列不存在。\")\n",
    "else:\n",
    "    # 如果列已存在，检查是否有任何已读的条目（即值为1）\n",
    "    if df['read_or_not'].eq(1).any():\n",
    "        print(\"存在已读条目。\")\n",
    "    else:\n",
    "        # 如果没有已读条目，也可以选择将所有值设置为0\n",
    "        df['read_or_not'] = 0\n",
    "        print(\"没有已读条目，所有条目设置为未读。\")\n",
    "\n",
    "# 保存DataFrame回到CSV文件，不包括索引\n",
    "df.to_csv('../../../data/raw/ids_for_api_use.csv', index=False)\n"
   ]
  },
  {
   "cell_type": "markdown",
   "metadata": {},
   "source": [
    "### 定义SteamAPI类"
   ]
  },
  {
   "cell_type": "code",
   "execution_count": 3,
   "metadata": {},
   "outputs": [],
   "source": [
    "class SteamAPI:\n",
    "    '''初始化，创建构造器'''\n",
    "    def __init__(self, api_key, steam_id, session):\n",
    "        self.api_key = api_key\n",
    "        self.steam_id = steam_id\n",
    "        self.session = session\n",
    "\n",
    "    '''定义抓取数据函数'''\n",
    "    async def fetch(self, url):\n",
    "        try:\n",
    "            async with self.session.get(url) as response:\n",
    "                response.raise_for_status()\n",
    "                return await response.json() # 返回数据为json格式\n",
    "        except aiohttp.ClientResponseError as e:\n",
    "            print(f\"HTTP Error: {e.status} for URL: {url}\")\n",
    "        except aiohttp.ClientError as e:\n",
    "            print(f\"Client Error: {str(e)} for URL: {url}\")\n",
    "        except asyncio.TimeoutError:\n",
    "            print(f\"TimeoutError: Request to {url} timed out\")\n",
    "        return None\n",
    "\n",
    "    async def get_player_info(self): # 抓取用户个人资料\n",
    "        player_info_url = f\"http://api.steampowered.com/ISteamUser/GetPlayerSummaries/v0002/?key={self.api_key}&steamids={self.steam_id}\"\n",
    "        return await self.fetch(player_info_url)\n",
    "\n",
    "    async def get_player_games(self): # 抓取用户游戏信息\n",
    "        player_games_url = f\"https://api.steampowered.com/IPlayerService/GetOwnedGames/v0001/?key={self.api_key}&steamid={self.steam_id}&format=json&include_appinfo=true&include_extended_appinfo=true\"\n",
    "        return await self.fetch(player_games_url)\n",
    "\n",
    "    # async def get_player_friends(self): # 抓取用户好友信息\n",
    "    #     player_friends_url = f\"http://api.steampowered.com/ISteamUser/GetFriendList/v0001/?key={self.api_key}&steamid={self.steam_id}&relationship=friend\"\n",
    "    #     return await self.fetch(player_friends_url)\n",
    "    \n",
    "    async def get_recently_played_games(self): # 抓取过去两周好友游玩时长\n",
    "        player_recently_played_games_url = f\"http://api.steampowered.com/IPlayerService/GetRecentlyPlayedGames/v0001/?key={self.api_key}&steamid={self.steam_id}&&format=json&count=3\"\n",
    "        return await self.fetch(player_recently_played_games_url)    \n",
    "\n",
    "    async def run(self):\n",
    "        return {\n",
    "            'player_info': await self.get_player_info(),\n",
    "            'player_games': await self.get_player_games(),\n",
    "            # 'player_friends': await self.get_player_friends(),\n",
    "            'recently_played_games': await self.get_recently_played_games()\n",
    "        }"
   ]
  },
  {
   "cell_type": "markdown",
   "metadata": {},
   "source": [
    "save data"
   ]
  },
  {
   "cell_type": "code",
   "execution_count": 4,
   "metadata": {},
   "outputs": [],
   "source": [
    "async def save_json(filename, data):\n",
    "    async with aiofiles.open(filename, 'a') as f:\n",
    "        await f.write(json.dumps(data, indent=4) + ',\\n')"
   ]
  },
  {
   "cell_type": "markdown",
   "metadata": {},
   "source": [
    "handle_steam_ids"
   ]
  },
  {
   "cell_type": "code",
   "execution_count": 5,
   "metadata": {},
   "outputs": [],
   "source": [
    "'''异步获取并处理指定 Steam 用户数据,semaphore是顶层设计，同一时间的信号数'''\n",
    "async def handle_steam_id(api_key, steam_id, session, semaphore):\n",
    "    async with semaphore:\n",
    "        steam_api = SteamAPI(api_key, steam_id, session)\n",
    "        result = await steam_api.run()\n",
    "        return {steam_id: result}"
   ]
  },
  {
   "cell_type": "markdown",
   "metadata": {},
   "source": [
    "process batches"
   ]
  },
  {
   "cell_type": "code",
   "execution_count": 6,
   "metadata": {},
   "outputs": [],
   "source": [
    "'''处理一批先前的return字典信息，组织成列表，并将处理结果保存到 JSON 文件中'''\n",
    "\n",
    "async def process_batch(api_key, batch, session, semaphore, filename, df):\n",
    "    tasks = [handle_steam_id(api_key, steam_id, session, semaphore) for steam_id in batch]\n",
    "    results = await asyncio.gather(*tasks)\n",
    "    await save_json(filename, results)\n",
    "    \n",
    "    # 标记已处理过的 IDs\n",
    "    for steam_id in batch:\n",
    "        df.loc[df['key'] == steam_id, 'read_or_not'] = 1\n",
    "    # 实时保存更新后的CSV文件\n",
    "    df.to_csv('../../../data/raw/ids_for_api_use.csv',index = False)"
   ]
  },
  {
   "cell_type": "markdown",
   "metadata": {},
   "source": [
    "get_next_filename"
   ]
  },
  {
   "cell_type": "code",
   "execution_count": 7,
   "metadata": {},
   "outputs": [],
   "source": [
    "'''获取下一个可用的文件名，例如：当没有all_steam_data1.json时候就用'''\n",
    "def get_next_filename(base_path, base_name, extension):\n",
    "    index = 1\n",
    "    while True:\n",
    "        filename = os.path.join(base_path, f\"{base_name}{index}.{extension}\") # 生成结构化文件\n",
    "        if not os.path.exists(filename):\n",
    "            return filename\n",
    "        index += 1"
   ]
  },
  {
   "cell_type": "markdown",
   "metadata": {},
   "source": [
    "main process"
   ]
  },
  {
   "cell_type": "code",
   "execution_count": 8,
   "metadata": {},
   "outputs": [],
   "source": [
    "async def main():\n",
    "    api_key = os.getenv('STEAM_API_KEY2')\n",
    "    df = pd.read_csv(r'../../../data/raw/ids_for_api_use.csv')\n",
    "    start_index = df[df['read_or_not'] == 0].index[0]\n",
    "    steam_ids = df.loc[start_index:, 'key'].tolist()\n",
    "    semaphore = asyncio.Semaphore(5) \n",
    "    batch_size = 5\n",
    "    base_path = '../../../data/raw'\n",
    "    base_name = 'all_steam_data'\n",
    "    extension = 'json'\n",
    "\n",
    "    # 获取下一个可用的文件名\n",
    "    filename = get_next_filename(base_path, base_name, extension)\n",
    "\n",
    "    timeout = aiohttp.ClientTimeout(total=6)  # 设置总超时时间为6秒\n",
    "    connector = aiohttp.TCPConnector(limit_per_host=5)\n",
    "    async with aiohttp.ClientSession(connector=connector, timeout=timeout) as session:\n",
    "        for i in range(0, len(steam_ids), batch_size):\n",
    "            batch = steam_ids[i:i + batch_size]\n",
    "            await process_batch(api_key, batch, session, semaphore, filename,df)\n",
    "            await asyncio.sleep(2)\n",
    "            gc.collect()\n"
   ]
  },
  {
   "cell_type": "markdown",
   "metadata": {},
   "source": [
    "网络正常大约运行1小时左右"
   ]
  },
  {
   "cell_type": "code",
   "execution_count": null,
   "metadata": {},
   "outputs": [],
   "source": [
    "await main()"
   ]
  }
 ],
 "metadata": {
  "kernelspec": {
   "display_name": "Zeyu_for_data_analyze_use",
   "language": "python",
   "name": "python3"
  },
  "language_info": {
   "codemirror_mode": {
    "name": "ipython",
    "version": 3
   },
   "file_extension": ".py",
   "mimetype": "text/x-python",
   "name": "python",
   "nbconvert_exporter": "python",
   "pygments_lexer": "ipython3",
   "version": "3.11.8"
  }
 },
 "nbformat": 4,
 "nbformat_minor": 2
}
