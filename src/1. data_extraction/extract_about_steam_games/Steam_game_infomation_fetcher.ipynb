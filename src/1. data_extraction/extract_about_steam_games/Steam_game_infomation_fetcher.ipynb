{
 "cells": [
  {
   "cell_type": "markdown",
   "metadata": {},
   "source": [
    "导入必要包\n",
    "这里有个小提示，当aiohttp包因为vpn等原因无法正确处理session时候，可以使用httpx等不同包处理"
   ]
  },
  {
   "cell_type": "code",
   "execution_count": 35,
   "metadata": {},
   "outputs": [],
   "source": [
    "import httpx\n",
    "import asyncio\n",
    "import json\n",
    "import pandas as pd\n",
    "import os"
   ]
  },
  {
   "cell_type": "markdown",
   "metadata": {},
   "source": [
    "异步抓取游戏信息"
   ]
  },
  {
   "cell_type": "code",
   "execution_count": 37,
   "metadata": {},
   "outputs": [],
   "source": [
    "def get_available_filename(base_path, base_name, extension):\n",
    "    index = 1\n",
    "    while True:\n",
    "        new_filename = f\"{base_path}/{base_name}{index}.{extension}\"\n",
    "        if not os.path.exists(new_filename):\n",
    "            return new_filename\n",
    "        index += 1\n",
    "\n",
    "async def fetch_game_data(client, app_id):\n",
    "    url = f\"https://store.steampowered.com/api/appdetails?appids={app_id}\"\n",
    "    try:\n",
    "        resp = await client.get(url)\n",
    "        resp.raise_for_status()\n",
    "        return resp.json()\n",
    "    except httpx.HTTPStatusError as e:\n",
    "        if e.response.status_code == 429:\n",
    "            return 'rate_limit'\n",
    "        else:\n",
    "            print(f\"Failed to fetch {app_id}: {str(e)}\")\n",
    "            return None\n",
    "\n",
    "async def fetch_batch(client, app_ids, sleep_time):\n",
    "    tasks = [fetch_game_data(client, app_id) for app_id in app_ids]\n",
    "    results = await asyncio.gather(*tasks)\n",
    "    return results, sleep_time\n",
    "\n",
    "async def main(app_ids, batch_size=10):\n",
    "    sleep_time = 7  # Start with 7 second sleep\n",
    "    client = httpx.AsyncClient()\n",
    "\n",
    "    file_name = get_available_filename('../../../data/processed/json_datas', 'game_data', 'json')\n",
    "\n",
    "    try:\n",
    "        for i in range(0, len(app_ids), batch_size):\n",
    "            batch = app_ids[i:i+batch_size]\n",
    "            results, sleep = await fetch_batch(client, batch, sleep_time)\n",
    "            if any(result == 'rate_limit' for result in results):\n",
    "                sleep_time += 2\n",
    "            else:\n",
    "                sleep_time = sleep_time - 3 if sleep_time > 10 else max(7, sleep_time - 0.1)\n",
    "            \n",
    "            with open(file_name, 'a') as f:  # Open the file once determined\n",
    "                json.dump([result for result in results if result is not None and result != 'rate_limit'], f)\n",
    "                f.write('\\n')\n",
    "            \n",
    "            print(f\"Batch completed. Sleeping for {sleep_time} seconds.\")\n",
    "            await asyncio.sleep(sleep_time)\n",
    "    finally:\n",
    "        await client.aclose()\n"
   ]
  },
  {
   "cell_type": "markdown",
   "metadata": {},
   "source": [
    "[](../../data/processed/)"
   ]
  },
  {
   "cell_type": "code",
   "execution_count": 3,
   "metadata": {},
   "outputs": [],
   "source": [
    "df = pd.read_csv(\"../../../data/processed/game_list.csv\")\n",
    "app_ids = df['game_id'].tolist()"
   ]
  },
  {
   "cell_type": "code",
   "execution_count": 39,
   "metadata": {},
   "outputs": [
    {
     "name": "stdout",
     "output_type": "stream",
     "text": [
      "Batch completed. Sleeping for 7 seconds.\n",
      "Batch completed. Sleeping for 7 seconds.\n",
      "Batch completed. Sleeping for 7 seconds.\n",
      "Batch completed. Sleeping for 7 seconds.\n",
      "Batch completed. Sleeping for 7 seconds.\n",
      "Batch completed. Sleeping for 7 seconds.\n",
      "Batch completed. Sleeping for 7 seconds.\n"
     ]
    }
   ],
   "source": [
    "'''运行异步代码，抓取游戏信息'''\n",
    "await main(app_ids)"
   ]
  },
  {
   "cell_type": "markdown",
   "metadata": {},
   "source": [
    "当出现网络问题中断，或者跑完发现其中有未抓取到（大概率是429错误）情况，请完成下面几个步骤：\n",
    "1. 请先使用当前文件夹下的[json_checker](json_checker.ipynb)修复文件【../../data/processed/json_datas/game_data**注意后缀**.json】\n",
    "2. 使用下面的代码更新[文件](../../data/processed/game_list.csv)【game_list.csv】，用于删除列表中已抓取的游戏\n",
    "3. 最后run👆上面的await main（app_ids）代码"
   ]
  },
  {
   "cell_type": "code",
   "execution_count": 40,
   "metadata": {},
   "outputs": [
    {
     "name": "stderr",
     "output_type": "stream",
     "text": [
      "C:\\Users\\55386\\AppData\\Local\\Temp\\ipykernel_32188\\2345850859.py:14: FutureWarning: DataFrame.applymap has been deprecated. Use DataFrame.map instead.\n",
      "  game_id_data = searched_game_data.applymap(find_already_fetched_ids)\n"
     ]
    }
   ],
   "source": [
    "'''读取文件信息'''\n",
    "searched_game_data = pd.read_json('../../../data/processed/json_datas/game_data7.json') # 每次注意修改game_data的后缀对应你要读取的最新数据\n",
    "all_game_id_data = pd.read_csv('../../../data/processed/game_list.csv')['game_id']\n",
    "\n",
    "'''定义提取游戏id的函数'''\n",
    "def find_already_fetched_ids(cell):\n",
    "    try:\n",
    "        game_id = list(cell.keys())[0]\n",
    "        return game_id\n",
    "    except:\n",
    "        return None\n",
    "\n",
    "'''提取游戏id'''\n",
    "game_id_data = searched_game_data.applymap(find_already_fetched_ids)\n",
    "\n",
    "'''将提取的游戏id整理成一列'''\n",
    "game_id_data = game_id_data.stack().reset_index(drop=True).astype(int) # 这里需要调整下数据类型成为int保持同步\n",
    "\n",
    "'''提取出不相同的id'''\n",
    "filtered_series = all_game_id_data[~all_game_id_data.isin(game_id_data)]\n",
    "\n",
    "'''覆盖原game_list文件'''\n",
    "filtered_series.to_csv('../../../data/processed/game_list.csv')"
   ]
  },
  {
   "cell_type": "code",
   "execution_count": 41,
   "metadata": {},
   "outputs": [
    {
     "data": {
      "text/plain": [
       "Series([], Name: game_id, dtype: int64)"
      ]
     },
     "execution_count": 41,
     "metadata": {},
     "output_type": "execute_result"
    }
   ],
   "source": [
    "filtered_series"
   ]
  }
 ],
 "metadata": {
  "kernelspec": {
   "display_name": "Zeyu_for_data_analyze_use",
   "language": "python",
   "name": "python3"
  },
  "language_info": {
   "codemirror_mode": {
    "name": "ipython",
    "version": 3
   },
   "file_extension": ".py",
   "mimetype": "text/x-python",
   "name": "python",
   "nbconvert_exporter": "python",
   "pygments_lexer": "ipython3",
   "version": "3.11.8"
  }
 },
 "nbformat": 4,
 "nbformat_minor": 2
}
