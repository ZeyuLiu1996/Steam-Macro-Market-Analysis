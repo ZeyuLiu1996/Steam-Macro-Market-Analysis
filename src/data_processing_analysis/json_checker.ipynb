{
 "cells": [
  {
   "cell_type": "code",
   "execution_count": 17,
   "metadata": {},
   "outputs": [],
   "source": [
    "import json\n",
    "\n",
    "class JSONHandler:\n",
    "    def __init__(self, file_path):\n",
    "        self.file_path = file_path\n",
    "        self.json_data = None\n",
    "    \n",
    "    def fix_json_syntax(self, json_string):\n",
    "        # 去除所有的换行符、制表符和多余的空格\n",
    "        json_string = json_string.replace('\\n', '')\n",
    "        json_string = json_string.replace('\\t', '')\n",
    "        json_string = json_string.replace(' ', '')\n",
    "        \n",
    "        # 处理连续逗号\n",
    "        while ',,' in json_string:\n",
    "            json_string = json_string.replace(',,', ',')\n",
    "        \n",
    "        # 去除结尾多余的逗号\n",
    "        if json_string.endswith(','):\n",
    "            json_string = json_string[:-1]\n",
    "        \n",
    "        # 将每个独立的 JSON 对象用逗号隔开，然后封装成一个数组\n",
    "        json_string = '[' + json_string + ']'\n",
    "        \n",
    "        # 删除在每个对象数组末尾的不必要的逗号\n",
    "        json_string = json_string.replace('},]', '}]')\n",
    "        \n",
    "        return json_string\n",
    "\n",
    "    def load_and_fix_json(self):\n",
    "        try:\n",
    "            with open(self.file_path, 'r', encoding='utf-8') as file:\n",
    "                json_content = file.read()\n",
    "            \n",
    "            # 尝试解析JSON内容\n",
    "            try:\n",
    "                self.json_data = json.loads(json_content)\n",
    "                print(\"JSON文件格式正确\")\n",
    "            except json.JSONDecodeError:\n",
    "                print(\"JSON文件格式错误，尝试修复...\")\n",
    "                # 修复JSON格式\n",
    "                fixed_json_content = self.fix_json_syntax(json_content)\n",
    "                try:\n",
    "                    self.json_data = json.loads(fixed_json_content)\n",
    "                    print(\"JSON文件修复成功\")\n",
    "                except json.JSONDecodeError as e:\n",
    "                    print(\"修复失败:\", e)\n",
    "                    self.json_data = None\n",
    "        \n",
    "        except Exception as e:\n",
    "            print(\"读取文件时出错:\", e)\n",
    "            self.json_data = None\n",
    "        \n",
    "        return self.json_data\n",
    "\n",
    "    def save_json(self, data=None):\n",
    "        if data is None:\n",
    "            data = self.json_data\n",
    "        with open(self.file_path, 'w', encoding='utf-8') as file:\n",
    "            json.dump(data, file, ensure_ascii=False, indent=4)\n",
    "\n"
   ]
  },
  {
   "cell_type": "markdown",
   "metadata": {},
   "source": [
    "[](../../data/raw/test.json)"
   ]
  },
  {
   "cell_type": "code",
   "execution_count": 19,
   "metadata": {},
   "outputs": [
    {
     "name": "stdout",
     "output_type": "stream",
     "text": [
      "JSON文件格式错误，尝试修复...\n",
      "JSON文件修复成功\n",
      "JSON文件已保存\n"
     ]
    }
   ],
   "source": [
    "# 创建JSONHandler对象\n",
    "json_handler = JSONHandler('../../data/raw/all_steam_data1 copy.json')\n",
    "\n",
    "# 加载并修复JSON\n",
    "json_data = json_handler.load_and_fix_json()\n",
    "\n",
    "# 如果修复成功，可以对json_data进行操作\n",
    "if json_data is not None:\n",
    "    # 对json_data进行操作的示例\n",
    "    json_data.append({\"new_key\": \"new_value\"})\n",
    "    \n",
    "    # 保存修改后的JSON\n",
    "    json_handler.save_json(json_data)\n",
    "    print(\"JSON文件已保存\")"
   ]
  }
 ],
 "metadata": {
  "kernelspec": {
   "display_name": "Zeyu_for_data_analyze_use",
   "language": "python",
   "name": "python3"
  },
  "language_info": {
   "codemirror_mode": {
    "name": "ipython",
    "version": 3
   },
   "file_extension": ".py",
   "mimetype": "text/x-python",
   "name": "python",
   "nbconvert_exporter": "python",
   "pygments_lexer": "ipython3",
   "version": "3.11.8"
  }
 },
 "nbformat": 4,
 "nbformat_minor": 2
}
