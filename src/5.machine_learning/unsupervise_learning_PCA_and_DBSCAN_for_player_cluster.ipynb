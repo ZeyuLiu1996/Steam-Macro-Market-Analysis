{
 "cells": [
  {
   "cell_type": "markdown",
   "metadata": {},
   "source": [
    "#### Machine Learning工作流程一览\n",
    "\n",
    "- **读取数据**：从CSV文件中加载数据，确保数据的完整性和正确性。\n",
    "- **数据清洗**：检查数据中的缺失值或异常值，并进行适当的处理。\n",
    "- **处理游戏类型相关参数**：将游戏类型列（genres）中的数据转换为适合聚类分析的格式。具体来说将参考游戏类型占总体出现的频率，以及该游戏所包含类型的情况确定每种类型的权重。\n",
    "- **构建矩阵**：创建一个矩阵，其中每行代表一个玩家，每列对应一种游戏类型。矩阵中的值为玩家在该游戏类型上的加权游戏时间（即游戏时间乘以对应游戏类型的权重）。\n",
    "- **降维**：应用主成分分析（PCA）来降低数据的维度，从而简化模型并提取最有信息量的特征。选择保留的成分数量应基于解释的方差比例和问题的具体需求。\n",
    "- **聚类分析**：使用DBSCAN聚类算法对PCA处理后的数据进行聚类。选择适当的`eps`和`min_samples`参数，以确保最佳聚类效果。\n",
    "- **展示聚类结果**：利用散点图或其他可视化工具展示DBSCAN聚类的结果，每个聚类用不同的颜色或标记表示。可能还包括降维后的特征空间的可视化，以便分析和解释聚类结果。"
   ]
  },
  {
   "cell_type": "markdown",
   "metadata": {},
   "source": [
    "### 加载数据"
   ]
  },
  {
   "cell_type": "code",
   "execution_count": 1,
   "metadata": {},
   "outputs": [],
   "source": [
    "import pandas as pd\n",
    "import re\n",
    "from ast import literal_eval # 将字符转成应有的数据类型,literal表示字面量，即原本是什么类型，eval表示评估\n",
    "from sklearn.preprocessing import MultiLabelBinarizer"
   ]
  },
  {
   "cell_type": "code",
   "execution_count": 2,
   "metadata": {},
   "outputs": [
    {
     "data": {
      "text/html": [
       "<div>\n",
       "<style scoped>\n",
       "    .dataframe tbody tr th:only-of-type {\n",
       "        vertical-align: middle;\n",
       "    }\n",
       "\n",
       "    .dataframe tbody tr th {\n",
       "        vertical-align: top;\n",
       "    }\n",
       "\n",
       "    .dataframe thead th {\n",
       "        text-align: right;\n",
       "    }\n",
       "</style>\n",
       "<table border=\"1\" class=\"dataframe\">\n",
       "  <thead>\n",
       "    <tr style=\"text-align: right;\">\n",
       "      <th></th>\n",
       "      <th>Unnamed: 0</th>\n",
       "      <th>steamid</th>\n",
       "      <th>communityvisibilitystate</th>\n",
       "      <th>profilestate</th>\n",
       "      <th>personaname</th>\n",
       "      <th>profileurl</th>\n",
       "      <th>avatar</th>\n",
       "      <th>avatarmedium</th>\n",
       "      <th>avatarfull</th>\n",
       "      <th>avatarhash</th>\n",
       "      <th>...</th>\n",
       "      <th>playtime_2weeks_game3</th>\n",
       "      <th>playtime_forever_game3_2weeks</th>\n",
       "      <th>steam_appid_2weeks_game_3</th>\n",
       "      <th>price_overview_2weeks_game_3</th>\n",
       "      <th>genres_2weeks_game_3</th>\n",
       "      <th>developers_2weeks_game_3</th>\n",
       "      <th>publishers_2weeks_game_3</th>\n",
       "      <th>categories_2weeks_game_3</th>\n",
       "      <th>release_date_2weeks_game_3</th>\n",
       "      <th>metacritic_2weeks_game_3</th>\n",
       "    </tr>\n",
       "  </thead>\n",
       "  <tbody>\n",
       "    <tr>\n",
       "      <th>0</th>\n",
       "      <td>0</td>\n",
       "      <td>76561197960269904</td>\n",
       "      <td>3</td>\n",
       "      <td>1</td>\n",
       "      <td>ツxxツ</td>\n",
       "      <td>https://steamcommunity.com/id/xcari/</td>\n",
       "      <td>https://avatars.steamstatic.com/c8499ee4d5ebde...</td>\n",
       "      <td>https://avatars.steamstatic.com/c8499ee4d5ebde...</td>\n",
       "      <td>https://avatars.steamstatic.com/c8499ee4d5ebde...</td>\n",
       "      <td>c8499ee4d5ebdebd78f07fc3fa19ce5370da82be</td>\n",
       "      <td>...</td>\n",
       "      <td>0</td>\n",
       "      <td>0</td>\n",
       "      <td>0</td>\n",
       "      <td>0</td>\n",
       "      <td>Unknown</td>\n",
       "      <td>Unknown</td>\n",
       "      <td>Unknown</td>\n",
       "      <td>Unknown</td>\n",
       "      <td>Unknown</td>\n",
       "      <td>Unknown</td>\n",
       "    </tr>\n",
       "    <tr>\n",
       "      <th>1</th>\n",
       "      <td>1</td>\n",
       "      <td>76561197960280448</td>\n",
       "      <td>3</td>\n",
       "      <td>1</td>\n",
       "      <td>recon</td>\n",
       "      <td>https://steamcommunity.com/id/pzrecon/</td>\n",
       "      <td>https://avatars.steamstatic.com/628974cb0fcec1...</td>\n",
       "      <td>https://avatars.steamstatic.com/628974cb0fcec1...</td>\n",
       "      <td>https://avatars.steamstatic.com/628974cb0fcec1...</td>\n",
       "      <td>628974cb0fcec15a07cd1601fdadc7aa44ac245d</td>\n",
       "      <td>...</td>\n",
       "      <td>0</td>\n",
       "      <td>0</td>\n",
       "      <td>0</td>\n",
       "      <td>0</td>\n",
       "      <td>Unknown</td>\n",
       "      <td>Unknown</td>\n",
       "      <td>Unknown</td>\n",
       "      <td>Unknown</td>\n",
       "      <td>Unknown</td>\n",
       "      <td>Unknown</td>\n",
       "    </tr>\n",
       "    <tr>\n",
       "      <th>2</th>\n",
       "      <td>2</td>\n",
       "      <td>76561197960290464</td>\n",
       "      <td>3</td>\n",
       "      <td>1</td>\n",
       "      <td>JKBe</td>\n",
       "      <td>https://steamcommunity.com/profiles/7656119796...</td>\n",
       "      <td>https://avatars.steamstatic.com/c698ae39dd85c1...</td>\n",
       "      <td>https://avatars.steamstatic.com/c698ae39dd85c1...</td>\n",
       "      <td>https://avatars.steamstatic.com/c698ae39dd85c1...</td>\n",
       "      <td>c698ae39dd85c1a1567e184a4b1735e9077a475f</td>\n",
       "      <td>...</td>\n",
       "      <td>0</td>\n",
       "      <td>0</td>\n",
       "      <td>0</td>\n",
       "      <td>0</td>\n",
       "      <td>Unknown</td>\n",
       "      <td>Unknown</td>\n",
       "      <td>Unknown</td>\n",
       "      <td>Unknown</td>\n",
       "      <td>Unknown</td>\n",
       "      <td>Unknown</td>\n",
       "    </tr>\n",
       "    <tr>\n",
       "      <th>3</th>\n",
       "      <td>3</td>\n",
       "      <td>76561197960315952</td>\n",
       "      <td>3</td>\n",
       "      <td>1</td>\n",
       "      <td>chuNami5000</td>\n",
       "      <td>https://steamcommunity.com/id/chuNk--/</td>\n",
       "      <td>https://avatars.steamstatic.com/b16314c3aff86b...</td>\n",
       "      <td>https://avatars.steamstatic.com/b16314c3aff86b...</td>\n",
       "      <td>https://avatars.steamstatic.com/b16314c3aff86b...</td>\n",
       "      <td>b16314c3aff86bf70b0bb5e54570fe8aa3efdd5d</td>\n",
       "      <td>...</td>\n",
       "      <td>67</td>\n",
       "      <td>272</td>\n",
       "      <td>952060</td>\n",
       "      <td>40</td>\n",
       "      <td>['Action']</td>\n",
       "      <td>['CAPCOMCo.,Ltd.']</td>\n",
       "      <td>['CAPCOMCo.,Ltd.']</td>\n",
       "      <td>['Single-player', 'Multi-player', 'PvP', 'Onli...</td>\n",
       "      <td>2Apr,2020</td>\n",
       "      <td>77</td>\n",
       "    </tr>\n",
       "    <tr>\n",
       "      <th>4</th>\n",
       "      <td>4</td>\n",
       "      <td>76561197960331200</td>\n",
       "      <td>3</td>\n",
       "      <td>1</td>\n",
       "      <td>Mikki</td>\n",
       "      <td>https://steamcommunity.com/profiles/7656119796...</td>\n",
       "      <td>https://avatars.steamstatic.com/fef49e7fa7e199...</td>\n",
       "      <td>https://avatars.steamstatic.com/fef49e7fa7e199...</td>\n",
       "      <td>https://avatars.steamstatic.com/fef49e7fa7e199...</td>\n",
       "      <td>fef49e7fa7e1997310d705b2a6158ff8dc1cdfeb</td>\n",
       "      <td>...</td>\n",
       "      <td>0</td>\n",
       "      <td>0</td>\n",
       "      <td>0</td>\n",
       "      <td>0</td>\n",
       "      <td>Unknown</td>\n",
       "      <td>Unknown</td>\n",
       "      <td>Unknown</td>\n",
       "      <td>Unknown</td>\n",
       "      <td>Unknown</td>\n",
       "      <td>Unknown</td>\n",
       "    </tr>\n",
       "  </tbody>\n",
       "</table>\n",
       "<p>5 rows × 102 columns</p>\n",
       "</div>"
      ],
      "text/plain": [
       "   Unnamed: 0            steamid  communityvisibilitystate  profilestate  \\\n",
       "0           0  76561197960269904                         3             1   \n",
       "1           1  76561197960280448                         3             1   \n",
       "2           2  76561197960290464                         3             1   \n",
       "3           3  76561197960315952                         3             1   \n",
       "4           4  76561197960331200                         3             1   \n",
       "\n",
       "   personaname                                         profileurl  \\\n",
       "0         ツxxツ               https://steamcommunity.com/id/xcari/   \n",
       "1        recon             https://steamcommunity.com/id/pzrecon/   \n",
       "2         JKBe  https://steamcommunity.com/profiles/7656119796...   \n",
       "3  chuNami5000             https://steamcommunity.com/id/chuNk--/   \n",
       "4        Mikki  https://steamcommunity.com/profiles/7656119796...   \n",
       "\n",
       "                                              avatar  \\\n",
       "0  https://avatars.steamstatic.com/c8499ee4d5ebde...   \n",
       "1  https://avatars.steamstatic.com/628974cb0fcec1...   \n",
       "2  https://avatars.steamstatic.com/c698ae39dd85c1...   \n",
       "3  https://avatars.steamstatic.com/b16314c3aff86b...   \n",
       "4  https://avatars.steamstatic.com/fef49e7fa7e199...   \n",
       "\n",
       "                                        avatarmedium  \\\n",
       "0  https://avatars.steamstatic.com/c8499ee4d5ebde...   \n",
       "1  https://avatars.steamstatic.com/628974cb0fcec1...   \n",
       "2  https://avatars.steamstatic.com/c698ae39dd85c1...   \n",
       "3  https://avatars.steamstatic.com/b16314c3aff86b...   \n",
       "4  https://avatars.steamstatic.com/fef49e7fa7e199...   \n",
       "\n",
       "                                          avatarfull  \\\n",
       "0  https://avatars.steamstatic.com/c8499ee4d5ebde...   \n",
       "1  https://avatars.steamstatic.com/628974cb0fcec1...   \n",
       "2  https://avatars.steamstatic.com/c698ae39dd85c1...   \n",
       "3  https://avatars.steamstatic.com/b16314c3aff86b...   \n",
       "4  https://avatars.steamstatic.com/fef49e7fa7e199...   \n",
       "\n",
       "                                 avatarhash  ...  playtime_2weeks_game3  \\\n",
       "0  c8499ee4d5ebdebd78f07fc3fa19ce5370da82be  ...                      0   \n",
       "1  628974cb0fcec15a07cd1601fdadc7aa44ac245d  ...                      0   \n",
       "2  c698ae39dd85c1a1567e184a4b1735e9077a475f  ...                      0   \n",
       "3  b16314c3aff86bf70b0bb5e54570fe8aa3efdd5d  ...                     67   \n",
       "4  fef49e7fa7e1997310d705b2a6158ff8dc1cdfeb  ...                      0   \n",
       "\n",
       "   playtime_forever_game3_2weeks steam_appid_2weeks_game_3  \\\n",
       "0                              0                         0   \n",
       "1                              0                         0   \n",
       "2                              0                         0   \n",
       "3                            272                    952060   \n",
       "4                              0                         0   \n",
       "\n",
       "   price_overview_2weeks_game_3 genres_2weeks_game_3  \\\n",
       "0                             0              Unknown   \n",
       "1                             0              Unknown   \n",
       "2                             0              Unknown   \n",
       "3                            40           ['Action']   \n",
       "4                             0              Unknown   \n",
       "\n",
       "   developers_2weeks_game_3  publishers_2weeks_game_3  \\\n",
       "0                   Unknown                   Unknown   \n",
       "1                   Unknown                   Unknown   \n",
       "2                   Unknown                   Unknown   \n",
       "3        ['CAPCOMCo.,Ltd.']        ['CAPCOMCo.,Ltd.']   \n",
       "4                   Unknown                   Unknown   \n",
       "\n",
       "                            categories_2weeks_game_3  \\\n",
       "0                                            Unknown   \n",
       "1                                            Unknown   \n",
       "2                                            Unknown   \n",
       "3  ['Single-player', 'Multi-player', 'PvP', 'Onli...   \n",
       "4                                            Unknown   \n",
       "\n",
       "   release_date_2weeks_game_3  metacritic_2weeks_game_3  \n",
       "0                     Unknown                   Unknown  \n",
       "1                     Unknown                   Unknown  \n",
       "2                     Unknown                   Unknown  \n",
       "3                   2Apr,2020                        77  \n",
       "4                     Unknown                   Unknown  \n",
       "\n",
       "[5 rows x 102 columns]"
      ]
     },
     "execution_count": 2,
     "metadata": {},
     "output_type": "execute_result"
    }
   ],
   "source": [
    "data = pd.read_csv('../../data/processed/all_steam_and_game_data_after_cleaned.csv')\n",
    "data.head(5)"
   ]
  },
  {
   "cell_type": "markdown",
   "metadata": {},
   "source": [
    "### 数据清洗"
   ]
  },
  {
   "cell_type": "code",
   "execution_count": 3,
   "metadata": {},
   "outputs": [],
   "source": [
    "'''默认值处理以及数据类型转换'''\n",
    "\n",
    "# 替换unknown为空值na\n",
    "data.replace('Unknown', pd.NA, inplace=True)\n",
    "\n",
    "for idx, col in enumerate(data.columns):\n",
    "    # 这里的r是原始字符串，不是read\n",
    "    if re.search(r'genres', col):\n",
    "        data[col] = data[col].apply(lambda x: literal_eval(x) if pd.notna(x) else x)\n",
    "    else:\n",
    "        pass"
   ]
  },
  {
   "cell_type": "markdown",
   "metadata": {},
   "source": [
    "#### 处理游戏类型相关参数"
   ]
  },
  {
   "cell_type": "code",
   "execution_count": 7,
   "metadata": {},
   "outputs": [
    {
     "data": {
      "text/plain": [
       "0                                     [Action, FreetoPlay]\n",
       "1                                     [Action, FreetoPlay]\n",
       "2                          [Action, Indie, Racing, Sports]\n",
       "3                                                 [Action]\n",
       "4        [Action, Adventure, Indie, MassivelyMultiplaye...\n",
       "                               ...                        \n",
       "33182                                             [Action]\n",
       "33183                                 [Action, FreetoPlay]\n",
       "33184                                             [Action]\n",
       "33185                                             [Action]\n",
       "33186                                 [Action, FreetoPlay]\n",
       "Length: 33187, dtype: object"
      ]
     },
     "execution_count": 7,
     "metadata": {},
     "output_type": "execute_result"
    }
   ],
   "source": [
    "'''整合数据至一列'''\n",
    "\n",
    "all_genres = pd.Series(dtype='object')\n",
    "\n",
    "for column in data:\n",
    "    if 'genres' in column:\n",
    "        non_na_series = data[column].dropna()\n",
    "        all_genres = pd.concat([all_genres, non_na_series], ignore_index=True)\n",
    "\n",
    "# 现在 all_genres 中的每个元素都应该是列表类型\n",
    "all_genres"
   ]
  },
  {
   "cell_type": "code",
   "execution_count": 8,
   "metadata": {},
   "outputs": [
    {
     "data": {
      "text/plain": [
       "{'Action': 24055,\n",
       " 'FreetoPlay': 11575,\n",
       " 'Indie': 9360,\n",
       " 'Racing': 1294,\n",
       " 'Sports': 1924,\n",
       " 'Adventure': 10562,\n",
       " 'MassivelyMultiplayer': 6275,\n",
       " 'RPG': 7395,\n",
       " 'Simulation': 5816,\n",
       " 'Strategy': 5286,\n",
       " 'Casual': 3549,\n",
       " 'Utilities': 721,\n",
       " 'Animation&Modeling': 452,\n",
       " 'Design&Illustration': 463,\n",
       " 'GameDevelopment': 120,\n",
       " 'EarlyAccess': 1570,\n",
       " 'PhotoEditing': 324,\n",
       " 'AudioProduction': 98,\n",
       " 'VideoProduction': 135,\n",
       " 'Education': 98,\n",
       " 'WebPublishing': 50,\n",
       " 'SoftwareTraining': 35,\n",
       " 'Nudity': 1,\n",
       " 'Gore': 2,\n",
       " 'Violent': 5,\n",
       " 'Экшены': 2,\n",
       " 'Казуальныеигры': 1,\n",
       " 'Инди': 2,\n",
       " 'Гонки': 1,\n",
       " 'Симуляторы': 1,\n",
       " 'Приключенческиеигры': 1,\n",
       " 'Стратегии': 1}"
      ]
     },
     "execution_count": 8,
     "metadata": {},
     "output_type": "execute_result"
    }
   ],
   "source": [
    "'''统计类型出现次数'''\n",
    "genre_counts = {}\n",
    "for genre_list in all_genres:\n",
    "    for genre in genre_list:\n",
    "        if genre in genre_counts:\n",
    "            genre_counts[genre] += 1\n",
    "        else:\n",
    "            genre_counts[genre] = 1\n",
    "genre_counts"
   ]
  },
  {
   "cell_type": "code",
   "execution_count": 9,
   "metadata": {},
   "outputs": [],
   "source": [
    "'''剔除极端数据避免噪音污染权重'''\n",
    "need_genre_counts = ['Nudity', 'Gore', 'Violent', 'Экшены', 'Приключенческиеигры', 'Инди', 'Стратегии']\n",
    "\n",
    "for key in need_genre_counts:\n",
    "    if key in genre_counts:\n",
    "        del genre_counts[key]"
   ]
  },
  {
   "cell_type": "code",
   "execution_count": 10,
   "metadata": {},
   "outputs": [],
   "source": [
    "genre_counts = pd.Series(genre_counts)\n",
    "genre_counts.to_csv('./data/genre_count.csv')"
   ]
  },
  {
   "cell_type": "markdown",
   "metadata": {},
   "source": [
    "加权方式介绍\n",
    "- **计算类别权重**：\n",
    "   - **计算比例倒数**：首先计算每个游戏类别在总类别中的占比，然后取该占比的倒数。\n",
    "   - **归一化权重**：将各类别的倒数权重除以所有倒数权重的总和，确保权重总和为1。\n",
    "\n",
    "- **计算加权时间**：\n",
    "   - 根据归一化的倒数权重，为每个玩家所玩游戏的时间进行加权分配。\n",
    "\n",
    "假设玩家A玩《荒野大镖客》200分钟，游戏类型包括[Action, Adventure]：\n",
    "\n",
    "- **权重计算**：\n",
    "  - Action的原始权重：1/24051\n",
    "  - Adventure的原始权重：1/10559\n",
    "  - 归一化后的权重：计算上述两者的权重总和，然后各自除以该总和。\n",
    "\n",
    "- **加权时间计算**：\n",
    "  - 使用归一化后的权重乘以200分钟，得到分配给Action和Adventure类别的加权游戏时间。\n",
    "\n",
    "通过此方法可以更公平地评估玩家对各种不同流行程度游戏类别的参与度。\n"
   ]
  },
  {
   "cell_type": "code",
   "execution_count": 11,
   "metadata": {},
   "outputs": [
    {
     "data": {
      "text/plain": [
       "Action                  24055\n",
       "FreetoPlay              11575\n",
       "Indie                    9360\n",
       "Racing                   1294\n",
       "Sports                   1924\n",
       "Adventure               10562\n",
       "MassivelyMultiplayer     6275\n",
       "RPG                      7395\n",
       "Simulation               5816\n",
       "Strategy                 5286\n",
       "Casual                   3549\n",
       "Utilities                 721\n",
       "Animation&Modeling        452\n",
       "Design&Illustration       463\n",
       "GameDevelopment           120\n",
       "EarlyAccess              1570\n",
       "PhotoEditing              324\n",
       "AudioProduction            98\n",
       "VideoProduction           135\n",
       "Education                  98\n",
       "WebPublishing              50\n",
       "SoftwareTraining           35\n",
       "Казуальныеигры              1\n",
       "Гонки                       1\n",
       "Симуляторы                  1\n",
       "dtype: int64"
      ]
     },
     "execution_count": 11,
     "metadata": {},
     "output_type": "execute_result"
    }
   ],
   "source": [
    "genre_counts"
   ]
  },
  {
   "cell_type": "code",
   "execution_count": 25,
   "metadata": {},
   "outputs": [],
   "source": [
    "'''提取需要的序列'''\n",
    "for_game_cluster_columns = []\n",
    "for col in data:\n",
    "    if re.search('steamid|genres|playtime_forever_game',col):\n",
    "        for_game_cluster_columns.append(col) \n",
    "for_game_cluster_df = data[for_game_cluster_columns]"
   ]
  },
  {
   "cell_type": "code",
   "execution_count": 34,
   "metadata": {},
   "outputs": [
    {
     "data": {
      "text/plain": [
       "24055"
      ]
     },
     "execution_count": 34,
     "metadata": {},
     "output_type": "execute_result"
    }
   ],
   "source": [
    "genre_counts['Action']"
   ]
  },
  {
   "cell_type": "code",
   "execution_count": 51,
   "metadata": {},
   "outputs": [
    {
     "name": "stdout",
     "output_type": "stream",
     "text": [
      "Action:24055\n"
     ]
    },
    {
     "data": {
      "text/plain": [
       "50721"
      ]
     },
     "execution_count": 51,
     "metadata": {},
     "output_type": "execute_result"
    }
   ],
   "source": [
    "test_genre_list = for_game_cluster_df.iloc[3,4]\n",
    "\n",
    "total_count = 0\n",
    "genre_count_list =[]\n",
    "weight_list = []\n",
    "for genre in test_genre_list:\n",
    "    genre_size = genre_counts.get(genre,0)\n",
    "    genre_count_list.append(genre_size)\n",
    "    total_count += genre_size\n",
    "    print(f'{genre}:{genre_counts[genre]}')\n",
    "\n",
    "weight_list =[count/total_count for count in genre_count_list]\n",
    "\n"
   ]
  }
 ],
 "metadata": {
  "kernelspec": {
   "display_name": "Zeyu_for_data_analyze_use",
   "language": "python",
   "name": "python3"
  },
  "language_info": {
   "codemirror_mode": {
    "name": "ipython",
    "version": 3
   },
   "file_extension": ".py",
   "mimetype": "text/x-python",
   "name": "python",
   "nbconvert_exporter": "python",
   "pygments_lexer": "ipython3",
   "version": "3.11.8"
  }
 },
 "nbformat": 4,
 "nbformat_minor": 2
}
