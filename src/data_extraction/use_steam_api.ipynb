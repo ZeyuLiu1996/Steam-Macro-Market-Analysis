{
 "cells": [
  {
   "cell_type": "markdown",
   "metadata": {},
   "source": [
    "Import necessary packages"
   ]
  },
  {
   "cell_type": "code",
   "execution_count": 2,
   "metadata": {},
   "outputs": [],
   "source": [
    "import aiohttp\n",
    "import asyncio\n",
    "import aiofiles\n",
    "import json\n",
    "import pandas as pd\n",
    "import gc\n",
    "import get_api\n",
    "import os"
   ]
  },
  {
   "cell_type": "markdown",
   "metadata": {},
   "source": [
    "Define class SteamAPIs"
   ]
  },
  {
   "cell_type": "code",
   "execution_count": null,
   "metadata": {},
   "outputs": [],
   "source": [
    "class SteamAPI:\n",
    "    def __init__(self, api_key, steam_id, session):\n",
    "        self.api_key = api_key\n",
    "        self.steam_id = steam_id\n",
    "        self.session = session\n",
    "\n",
    "    async def fetch(self, url):\n",
    "        try:\n",
    "            async with self.session.get(url) as response:\n",
    "                response.raise_for_status()\n",
    "                return await response.json()\n",
    "        except aiohttp.ClientResponseError as e:\n",
    "            print(f\"HTTP Error: {e.status} for URL: {url}\")\n",
    "        except aiohttp.ClientError as e:\n",
    "            print(f\"Client Error: {str(e)} for URL: {url}\")\n",
    "        except asyncio.TimeoutError:\n",
    "            print(f\"TimeoutError: Request to {url} timed out\")\n",
    "        return None\n",
    "\n",
    "    async def get_player_info(self):\n",
    "        player_info_url = f\"http://api.steampowered.com/ISteamUser/GetPlayerSummaries/v0002/?key={self.api_key}&steamids={self.steam_id}\"\n",
    "        return await self.fetch(player_info_url)\n",
    "\n",
    "    async def get_player_games(self):\n",
    "        player_games_url = f\"http://api.steampowered.com/IPlayerService/GetOwnedGames/v0001/?key={self.api_key}&steamid={self.steam_id}&format=json\"\n",
    "        return await self.fetch(player_games_url)\n",
    "\n",
    "    async def get_player_friends(self):\n",
    "        player_friends_url = f\"http://api.steampowered.com/ISteamUser/GetFriendList/v0001/?key={self.api_key}&steamid={self.steam_id}&relationship=friend\"\n",
    "        return await self.fetch(player_friends_url)\n",
    "\n",
    "    async def run(self):\n",
    "        return {\n",
    "            'player_info': await self.get_player_info(),\n",
    "            'player_games': await self.get_player_games(),\n",
    "            'player_friends': await self.get_player_friends()\n",
    "        }"
   ]
  },
  {
   "cell_type": "markdown",
   "metadata": {},
   "source": [
    "save data"
   ]
  },
  {
   "cell_type": "code",
   "execution_count": null,
   "metadata": {},
   "outputs": [],
   "source": [
    "async def save_json(filename, data):\n",
    "    async with aiofiles.open(filename, 'a') as f:\n",
    "        await f.write(json.dumps(data, indent=4) + ',\\n')"
   ]
  },
  {
   "cell_type": "markdown",
   "metadata": {},
   "source": [
    "handle_steam_ids"
   ]
  },
  {
   "cell_type": "code",
   "execution_count": null,
   "metadata": {},
   "outputs": [],
   "source": [
    "# 异步获取并处理指定 Steam 用户数据,semaphore是顶层设计，同一时间的信号数\n",
    "\n",
    "async def handle_steam_id(api_key, steam_id, session, semaphore):\n",
    "    async with semaphore:\n",
    "        steam_api = SteamAPI(api_key, steam_id, session)\n",
    "        result = await steam_api.run()\n",
    "        return {steam_id: result}"
   ]
  },
  {
   "cell_type": "markdown",
   "metadata": {},
   "source": [
    "process batches"
   ]
  },
  {
   "cell_type": "code",
   "execution_count": null,
   "metadata": {},
   "outputs": [],
   "source": [
    "# 处理一批先前的return字典信息，组织成列表，并将处理结果保存到 JSON 文件中\n",
    "\n",
    "async def process_batch(api_key, batch, session, semaphore, filename):\n",
    "    tasks = [handle_steam_id(api_key, steam_id, session, semaphore) for steam_id in batch]\n",
    "    results = await asyncio.gather(*tasks)\n",
    "    for result in results:\n",
    "        await save_json(filename, result)"
   ]
  },
  {
   "cell_type": "markdown",
   "metadata": {},
   "source": [
    "main process"
   ]
  },
  {
   "cell_type": "code",
   "execution_count": null,
   "metadata": {},
   "outputs": [],
   "source": [
    "async def main():\n",
    "    api_key = get_api.steam_api_key\n",
    "    df = pd.read_csv(r'C:\\Users\\55386\\OneDrive\\Documents\\Scripts\\Projects\\Steam_Game_Rating_Prediction_Project\\src\\data_extraction\\datas\\steamid_list.csv')\n",
    "    steam_ids = df['friend_steamid'].tolist()\n",
    "    semaphore = asyncio.Semaphore(5) \n",
    "    batch_size = 5\n",
    "    filename = 'all_steam_data.json'\n",
    "\n",
    "    # Prepare the file\n",
    "    if not os.path.exists(filename):\n",
    "        async with aiofiles.open(filename, 'w') as f:\n",
    "            await f.write('[')  # Start of JSON array\n",
    "\n",
    "    connector = aiohttp.TCPConnector(limit_per_host=5)\n",
    "    async with aiohttp.ClientSession(connector=connector) as session:\n",
    "        for i in range(0, len(steam_ids), batch_size):\n",
    "            batch = steam_ids[i:i + batch_size]\n",
    "            await process_batch(api_key, batch, session, semaphore, filename)\n",
    "            gc.collect()\n",
    "\n",
    "    # Close the JSON array\n",
    "    async with aiofiles.open(filename, 'a') as f:\n",
    "        await f.seek(-2, os.SEEK_END)  # Remove the last comma\n",
    "        await f.write('\\n]')  # End of JSON array\n",
    "\n",
    "await main()"
   ]
  }
 ],
 "metadata": {
  "kernelspec": {
   "display_name": "Zeyu_for_data_analyze_use",
   "language": "python",
   "name": "python3"
  },
  "language_info": {
   "codemirror_mode": {
    "name": "ipython",
    "version": 3
   },
   "file_extension": ".py",
   "mimetype": "text/x-python",
   "name": "python",
   "nbconvert_exporter": "python",
   "pygments_lexer": "ipython3",
   "version": "3.11.8"
  }
 },
 "nbformat": 4,
 "nbformat_minor": 2
}
