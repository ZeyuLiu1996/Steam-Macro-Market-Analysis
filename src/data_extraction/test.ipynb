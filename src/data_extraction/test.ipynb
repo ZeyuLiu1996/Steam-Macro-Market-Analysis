{
 "cells": [
  {
   "cell_type": "code",
   "execution_count": 3,
   "metadata": {},
   "outputs": [
    {
     "name": "stdout",
     "output_type": "stream",
     "text": [
      "Steam ID for 591334523 is: 76561198212155860\n"
     ]
    }
   ],
   "source": [
    "import requests\n",
    "\n",
    "# API的基本信息\n",
    "api_key = 'AC6F31D28FF4633A5233291C118D584C'  # 你的API密钥\n",
    "vanity_url = '591334523'  # 用户的Vanity URL\n",
    "url_type = 1  # 个人资料类型\n",
    "\n",
    "# 构造请求URL\n",
    "url = f\"https://api.steampowered.com/ISteamUser/ResolveVanityURL/v1/?key={api_key}&vanityurl={vanity_url}&url_type={url_type}\"\n",
    "\n",
    "# 发送GET请求\n",
    "response = requests.get(url)\n",
    "\n",
    "# 解析响应数据\n",
    "data = response.json()\n",
    "\n",
    "# 打印Steam ID\n",
    "if data['response']['success'] == 1:\n",
    "    steam_id = data['response']['steamid']\n",
    "    print(f\"Steam ID for {vanity_url} is: {steam_id}\")\n",
    "else:\n",
    "    print(\"Failed to resolve Vanity URL.\")"
   ]
  }
 ],
 "metadata": {
  "kernelspec": {
   "display_name": "Zeyu_for_data_analyze_use",
   "language": "python",
   "name": "python3"
  },
  "language_info": {
   "codemirror_mode": {
    "name": "ipython",
    "version": 3
   },
   "file_extension": ".py",
   "mimetype": "text/x-python",
   "name": "python",
   "nbconvert_exporter": "python",
   "pygments_lexer": "ipython3",
   "version": "3.11.8"
  }
 },
 "nbformat": 4,
 "nbformat_minor": 2
}
