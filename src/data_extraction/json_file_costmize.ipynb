{
 "cells": [
  {
   "cell_type": "markdown",
   "metadata": {},
   "source": [
    "### 更改格式"
   ]
  },
  {
   "cell_type": "code",
   "execution_count": 1,
   "metadata": {},
   "outputs": [],
   "source": [
    "import json\n",
    "\n",
    "# 定义处理大文件的函数\n",
    "def format_json_large_file(input_path, output_path, indent=4):\n",
    "    # 打开原始的大型JSON文件\n",
    "    with open(input_path, 'r', encoding='UTF-16') as file:\n",
    "        # 加载JSON数据\n",
    "        data = json.load(file)\n",
    "    \n",
    "    # 打开新文件写入格式化后的JSON\n",
    "    with open(output_path, 'w', encoding='utf-8') as file:\n",
    "        json.dump(data, file, indent=indent, ensure_ascii=False)\n",
    "\n",
    "# 调用函数\n",
    "format_json_large_file(r'C:\\Users\\55386\\OneDrive\\Documents\\Scripts\\Projects\\Steam_Game_Rating_Prediction_Project\\src\\data_extraction\\datas\\all_steam_data_part_1.json', r'C:\\Users\\55386\\OneDrive\\Documents\\Scripts\\Projects\\Steam_Game_Rating_Prediction_Project\\src\\data_extraction\\datas\\all_steam_data_part_1.json')\n"
   ]
  },
  {
   "cell_type": "markdown",
   "metadata": {},
   "source": [
    "### 文件写入"
   ]
  },
  {
   "cell_type": "code",
   "execution_count": 1,
   "metadata": {},
   "outputs": [
    {
     "name": "stdout",
     "output_type": "stream",
     "text": [
      "内容已从 datas\\all_steam_data_part_1.json 复制到 datas\\all_steam_data_part_1.1.json 并覆盖。\n"
     ]
    }
   ],
   "source": [
    "import json\n",
    "\n",
    "# 源文件路径\n",
    "source_file_path = r'datas\\all_steam_data_part_1.json'\n",
    "# 目标文件路径\n",
    "target_file_path = r'datas\\all_steam_data_part_1.1.json'\n",
    "\n",
    "# 读取源文件内容\n",
    "with open(source_file_path, 'r', encoding='utf-8') as file:\n",
    "    source_data = json.load(file)\n",
    "\n",
    "# 将源文件内容写入目标文件，覆盖所有旧数据\n",
    "with open(target_file_path, 'w', encoding='utf-8') as file:\n",
    "    json.dump(source_data, file, ensure_ascii=False, indent=4)\n",
    "\n",
    "print(\"内容已从 {} 复制到 {} 并覆盖。\".format(source_file_path, target_file_path))\n"
   ]
  },
  {
   "cell_type": "markdown",
   "metadata": {},
   "source": [
    "### 初始化"
   ]
  },
  {
   "cell_type": "code",
   "execution_count": 3,
   "metadata": {},
   "outputs": [],
   "source": [
    "import json\n",
    "\n",
    "with open(r'datas\\all_steam_data_part_1.json', 'r') as file:\n",
    "    data = json.load(file)\n",
    "\n",
    "with open(r'datas\\all_steam_data_part_1.1.json', 'w') as file:\n",
    "    json.dump(data, file, indent=4)\n"
   ]
  }
 ],
 "metadata": {
  "kernelspec": {
   "display_name": "Zeyu_for_data_analyze_use",
   "language": "python",
   "name": "python3"
  },
  "language_info": {
   "codemirror_mode": {
    "name": "ipython",
    "version": 3
   },
   "file_extension": ".py",
   "mimetype": "text/x-python",
   "name": "python",
   "nbconvert_exporter": "python",
   "pygments_lexer": "ipython3",
   "version": "3.11.8"
  }
 },
 "nbformat": 4,
 "nbformat_minor": 2
}
