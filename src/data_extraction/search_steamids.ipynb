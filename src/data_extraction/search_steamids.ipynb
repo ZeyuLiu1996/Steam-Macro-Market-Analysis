{
 "cells": [
  {
   "cell_type": "markdown",
   "metadata": {},
   "source": [
    "## 随机抽样"
   ]
  },
  {
   "cell_type": "markdown",
   "metadata": {},
   "source": [
    "**广度优先搜索**需要考虑几个因素：\n",
    "- 网络连通性：在Steam社区网络中，用户之间的连接密度如何？如果每个用户有很多朋友，那么少量的初始点可能就足够覆盖大量的用户。\n",
    "- 样本多样性：从多个起始点开始可以增加样本的多样性，减少因起始点选择导致的偏差。\n",
    "- 计算资源和时间：更多的初始点意味着更大的并行处理能力需求和可能更长的数据收集时间。\n",
    "\n",
    "<p align=\"center\">\n",
    "  <img src=\"../../images/Breadth-first-tree.jpg\" alt=\"BFT,path中../表示回到上一级\" width=\"200\"/>\n",
    "</p>\n",
    "\n",
    "<div style=\"text-align: center; color: gray; font-size: 14px; font-style: italic;\">\n",
    "  广度优先树模型\n",
    "</div>"
   ]
  },
  {
   "cell_type": "markdown",
   "metadata": {},
   "source": [
    "本次计划选取3000名玩家作为样本分析整体steam市场，该3000名玩家需要具备以下条件：\n",
    "- 基础信息可见\n",
    "- 朋友信息可见\n",
    "- 游戏游玩信息可见"
   ]
  },
  {
   "cell_type": "markdown",
   "metadata": {},
   "source": [
    "本次起始随机点搜索点设置50个，以便样本具备多样性，下面是随机抽样代码"
   ]
  },
  {
   "cell_type": "code",
   "execution_count": 32,
   "metadata": {},
   "outputs": [],
   "source": [
    "'''加载工作包'''\n",
    "import aiohttp\n",
    "import asyncio\n",
    "import aiofiles\n",
    "import random\n",
    "import os\n",
    "import csv\n",
    "import json\n",
    "import pandas as pd\n",
    "from pathlib import Path\n",
    "from collections import deque"
   ]
  },
  {
   "cell_type": "code",
   "execution_count": 83,
   "metadata": {},
   "outputs": [],
   "source": [
    "\"\"\" 异步获取有效的Steam ID ，返回值steam_id和他的friends信息，如出现错误返回报错信息\"\"\"\n",
    "async def fetch_friends(session, steam_api_key, steam_id):\n",
    "    url = f\"http://api.steampowered.com/ISteamUser/GetFriendList/v0001/?key={steam_api_key}&steamid={steam_id}&relationship=friend\"\n",
    "    try:\n",
    "        async with session.get(url) as response: # session用于创建一个会话对象，用来发送多种类型的HTTP请求（GET、POST、PUT、DELETE）等\n",
    "            if response.status == 200:\n",
    "                data = await response.json()\n",
    "                # 确保friendslist存在且列表不为空\n",
    "                if ('friendslist' in data) and (data['friendslist']['friends']):\n",
    "                    return steam_id, data['friendslist']['friends']\n",
    "    except Exception as e:\n",
    "        print(f\"Error fetching friends for {steam_id}: {str(e)}\")\n",
    "    return None, None  # 如果没有朋友列表或请求失败，返回None\n",
    "\n",
    "\"\"\" 使用并行请求寻找具有朋友列表的Steam用户ID，返回 \"\"\"\n",
    "async def collect_ids(steam_api_key, target_count=50, batch_size=10):\n",
    "    collected_ids = []\n",
    "    try:\n",
    "        async with aiohttp.ClientSession() as session: # 当不足50个时候异步调用api查询id是否有效，每个查询如有效返回id和其朋友列表\n",
    "            while len(collected_ids) < target_count: \n",
    "                tasks = [] # 创建10个随机id的查询任务\n",
    "                for _ in range(batch_size):\n",
    "                    random_id = random.randint(76561197960265728, 76561197960265728 + 50000000)\n",
    "                    task = fetch_friends(session, steam_api_key, random_id)\n",
    "                    tasks.append(task)\n",
    "                \n",
    "                results = await asyncio.gather(*tasks) # 将所有的tasks集合异步进行,await将阻断主线程，异步10个任务gather后再返回主线程;在这里results是一个列表，元素由各个查询任务的元组组成例如[(a,{...}),(b,{...}})]\n",
    "            \n",
    "                for steam_id, friends in results:\n",
    "                    if (friends) and (steam_id not in collected_ids):  # 需要同时有id和朋友列表\n",
    "                        collected_ids.append(steam_id)\n",
    "                        print(f\"Found valid ID: {steam_id} with {len(friends)} friends.\")\n",
    "                        if len(collected_ids) >= target_count:\n",
    "                            break\n",
    "    except Exception as e:\n",
    "        print(f\"An error occurred: {str(e)}\")\n",
    "    return collected_ids"
   ]
  },
  {
   "cell_type": "markdown",
   "metadata": {},
   "source": [
    "配置API信息，调用collect_ids函数"
   ]
  },
  {
   "cell_type": "code",
   "execution_count": 84,
   "metadata": {},
   "outputs": [
    {
     "name": "stdout",
     "output_type": "stream",
     "text": [
      "Found valid ID: 76561198008732451 with 44 friends.\n",
      "Found valid ID: 76561197992537552 with 19 friends.\n",
      "Found valid ID: 76561198009550897 with 33 friends.\n",
      "Found valid ID: 76561197998636571 with 1 friends.\n",
      "Found valid ID: 76561198000080278 with 1 friends.\n",
      "Found valid ID: 76561197971637289 with 14 friends.\n",
      "Found valid ID: 76561197981600058 with 30 friends.\n",
      "Found valid ID: 76561197982240245 with 6 friends.\n",
      "Found valid ID: 76561197979962491 with 93 friends.\n",
      "Found valid ID: 76561197999475452 with 1 friends.\n",
      "Found valid ID: 76561197982199822 with 37 friends.\n",
      "Found valid ID: 76561197995231721 with 5 friends.\n",
      "Found valid ID: 76561197990325414 with 1 friends.\n",
      "Found valid ID: 76561198006975782 with 1 friends.\n",
      "Found valid ID: 76561198007047021 with 1 friends.\n",
      "Found valid ID: 76561197970316965 with 7 friends.\n",
      "Found valid ID: 76561197960945147 with 6 friends.\n",
      "Found valid ID: 76561198002801681 with 117 friends.\n",
      "Found valid ID: 76561197995699851 with 1 friends.\n",
      "Found valid ID: 76561197991415823 with 1 friends.\n",
      "Found valid ID: 76561197964956359 with 1 friends.\n",
      "Found valid ID: 76561197996610084 with 3 friends.\n",
      "Found valid ID: 76561197994153419 with 6 friends.\n",
      "Found valid ID: 76561197960695556 with 235 friends.\n",
      "Found valid ID: 76561197995180881 with 12 friends.\n",
      "Found valid ID: 76561197987360242 with 86 friends.\n",
      "Found valid ID: 76561198005920986 with 203 friends.\n",
      "Found valid ID: 76561197975908542 with 5 friends.\n",
      "Found valid ID: 76561197995926139 with 1 friends.\n",
      "Found valid ID: 76561197991271266 with 4 friends.\n",
      "Found valid ID: 76561197960945507 with 192 friends.\n",
      "Found valid ID: 76561197994647943 with 3 friends.\n",
      "Found valid ID: 76561197996344927 with 1 friends.\n",
      "Found valid ID: 76561197975128048 with 11 friends.\n",
      "Found valid ID: 76561198000959718 with 8 friends.\n",
      "Found valid ID: 76561197997723089 with 4 friends.\n",
      "Found valid ID: 76561197985921032 with 19 friends.\n",
      "Found valid ID: 76561197996329723 with 2 friends.\n",
      "Found valid ID: 76561197989716997 with 37 friends.\n",
      "Found valid ID: 76561198007032705 with 2 friends.\n",
      "Found valid ID: 76561198005600970 with 1 friends.\n",
      "Found valid ID: 76561197993265979 with 10 friends.\n",
      "Found valid ID: 76561197977695900 with 3 friends.\n",
      "Found valid ID: 76561198000979847 with 28 friends.\n",
      "Found valid ID: 76561197970997483 with 8 friends.\n",
      "Found valid ID: 76561197981688202 with 11 friends.\n",
      "Found valid ID: 76561197980635645 with 2 friends.\n",
      "Found valid ID: 76561198007672969 with 2 friends.\n",
      "Found valid ID: 76561198001194658 with 2 friends.\n",
      "Found valid ID: 76561197978871968 with 5 friends.\n",
      "Collected 50 valid Steam IDs with friends.\n"
     ]
    }
   ],
   "source": [
    "# 使用你的Steam API Key\n",
    "steam_api_key = os.getenv('STEAM_API_KEY') # 这里注意替换为你自己保存在环境变量中的API KEY，并当然你也可以显式赋值，但切记隐私安全，因为STEAM所提供的API功能相当丰富，涉及多种交易\n",
    "\n",
    "'''一般在异步编程中，main用于控制创建多个任务的并行'''\n",
    "async def main(): \n",
    "    valid_ids = await collect_ids(steam_api_key)\n",
    "    # 写入CSV文件\n",
    "    with open('../../data/raw/vilid_ids.csv', 'w', newline='') as file:\n",
    "        writer = csv.writer(file)\n",
    "        writer.writerow(['Steam ID'])\n",
    "        for steam_id in valid_ids:\n",
    "            writer.writerow([steam_id])  # 假设你有朋友数的数据，这里需要调整\n",
    "    print(f\"Collected {len(valid_ids)} valid Steam IDs with friends.\")\n",
    "\n",
    "# 运行异步主函数\n",
    "await main()"
   ]
  },
  {
   "cell_type": "markdown",
   "metadata": {},
   "source": [
    "## 开始抓取"
   ]
  },
  {
   "cell_type": "markdown",
   "metadata": {},
   "source": [
    "利用抓取的50个初始IDs进行广度优先搜索，数据原始文件。👉[初始IDs](../../data/raw/vilid_ids.csv)<br>\n",
    "计划至少需要抓取30000个用户ID。"
   ]
  },
  {
   "cell_type": "code",
   "execution_count": 49,
   "metadata": {},
   "outputs": [],
   "source": [
    "class SteamDataFetcher:\n",
    "    \n",
    "    '''初始化参数'''\n",
    "    def __init__(self, api_key, initial_friend_ids, max_requests, concurrent_limit=20):\n",
    "        self.api_key = api_key\n",
    "        self.initial_friend_ids = initial_friend_ids # 初始的Steam用户ID，从列表用户开始抓取好友数据\n",
    "        self.max_requests = max_requests # 允许最大API请求数\n",
    "        self.concurrent_limit = concurrent_limit # 并发请求的限制，使用asyncio.Semaphore控制同一时间信号数量\n",
    "        self.num_requests = 0 # 记录已发出的请求次数\n",
    "        self.data_path = Path(r\"../../data/raw/steam_datas.json\") # 存储抓取的数据\n",
    "        self.visited_path = Path(r\"../../data/raw/visited_datas.json\") # 已访问的用户ID的本地文件路径，避免多次重复查询，例如[\"76561198056544941\", \"76561198119058878\".....]\n",
    "        self.session = None # 用于发起HTTP请求\n",
    "        self.visited_ids = set() # 已访问的Steam用户ID集合\n",
    "        self.semaphore = asyncio.Semaphore(self.concurrent_limit) # 控制同一时间信号数量，避免频繁请求造成的“429”错误\n",
    "\n",
    "    '''读取所有玩家列表汇总'''\n",
    "    async def load_data(self):\n",
    "        if self.data_path.exists(): # 存在则返回{72xxxxxxx:{}....,72xxxx:{},}data，没有数据则返回空字典{}\n",
    "            async with aiofiles.open(self.data_path, 'r') as file: \n",
    "                data = await file.read()\n",
    "                return json.loads(data) if data else {}\n",
    "        return {} # 文件不存在则返回空字典{}\n",
    "\n",
    "    '''保存查询的所有玩家列表汇总'''\n",
    "    async def save_data(self, data):\n",
    "        existing_data = await self.load_data() # 读取json文件成字典{72xxxxxxx:{}....,72xxxx:{},....}\n",
    "        existing_data.update(data)\n",
    "        async with aiofiles.open(self.data_path, \"w\") as file:\n",
    "            await file.write(json.dumps(existing_data, indent=4))\n",
    "\n",
    "    '''保存查询过的玩家列表'''\n",
    "    async def save_visited_ids(self):\n",
    "        async with aiofiles.open(self.visited_path, \"w\") as file:\n",
    "            await file.write(json.dumps(list(self.visited_ids)))\n",
    "\n",
    "    '''初始化HTTP客户端会话，从加载visited_ids文件如果文件存在的话'''\n",
    "    async def initialize(self):\n",
    "        self.session = aiohttp.ClientSession() # 用于创建一个会话对象，用来发送多种类型的HTTP请求（GET、POST、PUT、DELETE）等\n",
    "        if self.visited_path.exists():\n",
    "            async with aiofiles.open(self.visited_path, \"r\") as file:\n",
    "                data = await file.read() # 如果有的话data等于[\"76561198056544941\", \"76561198119058878\".....]\n",
    "                self.visited_ids = set(json.loads(data)) if data else set() \n",
    "\n",
    "    '''获得ID的玩家列表'''\n",
    "    async def fetch_friends(self, steam_id):\n",
    "        async with self.semaphore:\n",
    "            if (self.num_requests >= self.max_requests) or (steam_id in self.visited_ids):\n",
    "                return None, steam_id # 这里返回steam_id与结果一起\n",
    "            self.visited_ids.add(steam_id)\n",
    "            self.num_requests += 1\n",
    "            url = f\"http://api.steampowered.com/ISteamUser/GetFriendList/v0001/?key={self.api_key}&steamid={steam_id}&relationship=friend\"\n",
    "            async with self.session.get(url) as response:\n",
    "                if response.status == 200:\n",
    "                    return await response.json(), steam_id # 这里返回steam_id与结果一起\n",
    "                return {}, steam_id # 这里返回steam_id与结果一起\n",
    "\n",
    "    '''关闭会话'''\n",
    "    async def close(self):\n",
    "        if self.session:\n",
    "            await self.session.close()\n",
    "\n",
    "    '''上述方法的集合调用，涉及initialize、load_data、fetch_friends、save_data、save_visited_ids、close全部过程'''   \n",
    "    async def run(self):\n",
    "        await self.initialize() \n",
    "        friends_data = await self.load_data()\n",
    "        queue = deque(self.initial_friend_ids)\n",
    "        count = 0\n",
    "        save_threshold = 50 #控制单次写入的batch大小，及时释放内存\n",
    "        batch_data = {}\n",
    "\n",
    "        while queue and (self.num_requests < self.max_requests):\n",
    "            tasks=[]\n",
    "            while (queue and len(tasks) < self.concurrent_limit) and (self.num_requests < self.max_requests):\n",
    "                current_id = queue.popleft() #将列表最左侧的提取出，并与visited比对，如没有则假如任务列\n",
    "                if current_id not in self.visited_ids: \n",
    "                    tasks.append(self.fetch_friends(current_id)) # 任务列表添加任务：例如返回的json数据例如\"76561197991624457\": {\"friendslist\": {\"friends\": [...]}}\n",
    "\n",
    "            results = await asyncio.gather(*tasks) # 并发执行收集到的任务\n",
    "                \n",
    "            for friends, current_id in results: \n",
    "                if friends:\n",
    "                    friends_data[current_id] = friends\n",
    "                    batch_data[current_id] = friends\n",
    "                    for friend in friends.get('friendslist', {}).get('friends', []): # 返回{{  \"steamid\": \"76561197963520450\",\"relationship\": \"friend\"}\n",
    "                        friend_id = friend.get('steamid') # 提取id，如\"76561197963520450\"\n",
    "                        if friend_id and friend_id not in self.visited_ids:\n",
    "                            queue.append(friend_id) # 添加\"76561197963520450\"至队列最下方\n",
    "\n",
    "                count += 1\n",
    "                if count >= save_threshold:\n",
    "                    await self.save_data(batch_data)\n",
    "                    batch_data = {}\n",
    "                    count = 0\n",
    "                    await self.save_visited_ids()\n",
    "\n",
    "        if batch_data:\n",
    "            await self.save_data(batch_data)\n",
    "        await self.save_visited_ids()\n",
    "        await self.close()"
   ]
  },
  {
   "cell_type": "markdown",
   "metadata": {},
   "source": [
    "加载初始搜索IDs并储存至变量vilid_ids"
   ]
  },
  {
   "cell_type": "code",
   "execution_count": 50,
   "metadata": {},
   "outputs": [],
   "source": [
    "# 读取CSV文件中所有的Steam ID\n",
    "def read_all_steam_ids(file_path):\n",
    "    df = pd.read_csv(file_path)\n",
    "    # 假设Steam ID存储在名为'steamid'的列\n",
    "    if ('Steam ID' in df.columns) and (not df['Steam ID'].empty):\n",
    "        return df['Steam ID'].tolist()\n",
    "    else:\n",
    "        return []  # 如果没有找到数据，返回空列表\n",
    "\n",
    "# 设置初始的Steam ID列表\n",
    "file_path = \"../../data/raw/vilid_ids.csv\"\n",
    "vilid_ids = read_all_steam_ids(file_path)\n",
    "vilid_ids = deque(vilid_ids)"
   ]
  },
  {
   "cell_type": "markdown",
   "metadata": {},
   "source": [
    "调用SteamDataFetcher函数，网络正常情况下运行10分钟，即可得到足够的id量"
   ]
  },
  {
   "cell_type": "code",
   "execution_count": null,
   "metadata": {},
   "outputs": [],
   "source": [
    "# 示例运行代码，确保在异步环境中调用\n",
    "steam_api_key = os.getenv('STEAM_API_KEY')\n",
    "\n",
    "async def main():\n",
    "    fetcher = SteamDataFetcher(api_key=steam_api_key, initial_friend_ids=list(vilid_ids), max_requests=10000, concurrent_limit=20)\n",
    "    try:\n",
    "        await fetcher.run()\n",
    "    finally:\n",
    "        await fetcher.close()\n",
    "\n",
    "# 运行 main 函数\n",
    "await(main())"
   ]
  }
 ],
 "metadata": {
  "kernelspec": {
   "display_name": "Zeyu_for_data_analyze_use",
   "language": "python",
   "name": "python3"
  },
  "language_info": {
   "codemirror_mode": {
    "name": "ipython",
    "version": 3
   },
   "file_extension": ".py",
   "mimetype": "text/x-python",
   "name": "python",
   "nbconvert_exporter": "python",
   "pygments_lexer": "ipython3",
   "version": "3.11.8"
  }
 },
 "nbformat": 4,
 "nbformat_minor": 2
}
