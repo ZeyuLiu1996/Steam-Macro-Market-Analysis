{
 "cells": [
  {
   "cell_type": "markdown",
   "metadata": {},
   "source": [
    "## 随机抽样"
   ]
  },
  {
   "cell_type": "markdown",
   "metadata": {},
   "source": [
    "## 开始抓取"
   ]
  },
  {
   "cell_type": "code",
   "execution_count": 1,
   "metadata": {},
   "outputs": [],
   "source": [
    "import asyncio\n",
    "import aiohttp\n",
    "import json\n",
    "from pathlib import Path\n",
    "from collections import deque\n",
    "import aiofiles\n",
    "import get_api"
   ]
  },
  {
   "cell_type": "code",
   "execution_count": 3,
   "metadata": {},
   "outputs": [
    {
     "ename": "FileNotFoundError",
     "evalue": "[Errno 2] No such file or directory: 'try\\\\visited_ids.json'",
     "output_type": "error",
     "traceback": [
      "\u001b[1;31m---------------------------------------------------------------------------\u001b[0m",
      "\u001b[1;31mFileNotFoundError\u001b[0m                         Traceback (most recent call last)",
      "Cell \u001b[1;32mIn[3], line 96\u001b[0m\n\u001b[0;32m     93\u001b[0m         \u001b[38;5;28;01mawait\u001b[39;00m fetcher\u001b[38;5;241m.\u001b[39mclose()\n\u001b[0;32m     95\u001b[0m \u001b[38;5;66;03m# 运行 main 函数\u001b[39;00m\n\u001b[1;32m---> 96\u001b[0m \u001b[38;5;28;01mawait\u001b[39;00m(main())\n",
      "Cell \u001b[1;32mIn[3], line 91\u001b[0m, in \u001b[0;36mmain\u001b[1;34m()\u001b[0m\n\u001b[0;32m     89\u001b[0m fetcher \u001b[38;5;241m=\u001b[39m SteamDataFetcher(api_key\u001b[38;5;241m=\u001b[39mget_api\u001b[38;5;241m.\u001b[39msteam_api_key, initial_friend_id\u001b[38;5;241m=\u001b[39m\u001b[38;5;124m\"\u001b[39m\u001b[38;5;124m76561199054306973\u001b[39m\u001b[38;5;124m\"\u001b[39m, max_requests\u001b[38;5;241m=\u001b[39m\u001b[38;5;241m10000\u001b[39m, concurrent_limit\u001b[38;5;241m=\u001b[39m\u001b[38;5;241m20\u001b[39m)\n\u001b[0;32m     90\u001b[0m \u001b[38;5;28;01mtry\u001b[39;00m:\n\u001b[1;32m---> 91\u001b[0m     \u001b[38;5;28;01mawait\u001b[39;00m fetcher\u001b[38;5;241m.\u001b[39mrun()\n\u001b[0;32m     92\u001b[0m \u001b[38;5;28;01mfinally\u001b[39;00m:\n\u001b[0;32m     93\u001b[0m     \u001b[38;5;28;01mawait\u001b[39;00m fetcher\u001b[38;5;241m.\u001b[39mclose()\n",
      "Cell \u001b[1;32mIn[3], line 84\u001b[0m, in \u001b[0;36mSteamDataFetcher.run\u001b[1;34m(self)\u001b[0m\n\u001b[0;32m     82\u001b[0m \u001b[38;5;28;01mif\u001b[39;00m batch_data:\n\u001b[0;32m     83\u001b[0m     \u001b[38;5;28;01mawait\u001b[39;00m \u001b[38;5;28mself\u001b[39m\u001b[38;5;241m.\u001b[39msave_data(batch_data)\n\u001b[1;32m---> 84\u001b[0m \u001b[38;5;28;01mawait\u001b[39;00m \u001b[38;5;28mself\u001b[39m\u001b[38;5;241m.\u001b[39msave_visited_ids()\n\u001b[0;32m     85\u001b[0m \u001b[38;5;28;01mawait\u001b[39;00m \u001b[38;5;28mself\u001b[39m\u001b[38;5;241m.\u001b[39mclose()\n",
      "Cell \u001b[1;32mIn[3], line 35\u001b[0m, in \u001b[0;36mSteamDataFetcher.save_visited_ids\u001b[1;34m(self)\u001b[0m\n\u001b[0;32m     34\u001b[0m \u001b[38;5;28;01masync\u001b[39;00m \u001b[38;5;28;01mdef\u001b[39;00m \u001b[38;5;21msave_visited_ids\u001b[39m(\u001b[38;5;28mself\u001b[39m):\n\u001b[1;32m---> 35\u001b[0m     \u001b[38;5;28;01masync\u001b[39;00m \u001b[38;5;28;01mwith\u001b[39;00m aiofiles\u001b[38;5;241m.\u001b[39mopen(\u001b[38;5;28mself\u001b[39m\u001b[38;5;241m.\u001b[39mvisited_path, \u001b[38;5;124m\"\u001b[39m\u001b[38;5;124mw\u001b[39m\u001b[38;5;124m\"\u001b[39m) \u001b[38;5;28;01mas\u001b[39;00m file:\n\u001b[0;32m     36\u001b[0m         \u001b[38;5;28;01mawait\u001b[39;00m file\u001b[38;5;241m.\u001b[39mwrite(json\u001b[38;5;241m.\u001b[39mdumps(\u001b[38;5;28mlist\u001b[39m(\u001b[38;5;28mself\u001b[39m\u001b[38;5;241m.\u001b[39mvisited_ids)))\n",
      "File \u001b[1;32mc:\\Users\\55386\\anaconda3\\envs\\Zeyu_for_data_analyze_use\\Lib\\site-packages\\aiofiles\\base.py:78\u001b[0m, in \u001b[0;36m_ContextManager.__aenter__\u001b[1;34m(self)\u001b[0m\n\u001b[0;32m     77\u001b[0m \u001b[38;5;28;01masync\u001b[39;00m \u001b[38;5;28;01mdef\u001b[39;00m \u001b[38;5;21m__aenter__\u001b[39m(\u001b[38;5;28mself\u001b[39m):\n\u001b[1;32m---> 78\u001b[0m     \u001b[38;5;28mself\u001b[39m\u001b[38;5;241m.\u001b[39m_obj \u001b[38;5;241m=\u001b[39m \u001b[38;5;28;01mawait\u001b[39;00m \u001b[38;5;28mself\u001b[39m\u001b[38;5;241m.\u001b[39m_coro\n\u001b[0;32m     79\u001b[0m     \u001b[38;5;28;01mreturn\u001b[39;00m \u001b[38;5;28mself\u001b[39m\u001b[38;5;241m.\u001b[39m_obj\n",
      "File \u001b[1;32mc:\\Users\\55386\\anaconda3\\envs\\Zeyu_for_data_analyze_use\\Lib\\site-packages\\aiofiles\\threadpool\\__init__.py:80\u001b[0m, in \u001b[0;36m_open\u001b[1;34m(file, mode, buffering, encoding, errors, newline, closefd, opener, loop, executor)\u001b[0m\n\u001b[0;32m     68\u001b[0m     loop \u001b[38;5;241m=\u001b[39m asyncio\u001b[38;5;241m.\u001b[39mget_event_loop()\n\u001b[0;32m     69\u001b[0m cb \u001b[38;5;241m=\u001b[39m partial(\n\u001b[0;32m     70\u001b[0m     sync_open,\n\u001b[0;32m     71\u001b[0m     file,\n\u001b[1;32m   (...)\u001b[0m\n\u001b[0;32m     78\u001b[0m     opener\u001b[38;5;241m=\u001b[39mopener,\n\u001b[0;32m     79\u001b[0m )\n\u001b[1;32m---> 80\u001b[0m f \u001b[38;5;241m=\u001b[39m \u001b[38;5;28;01myield from\u001b[39;00m loop\u001b[38;5;241m.\u001b[39mrun_in_executor(executor, cb)\n\u001b[0;32m     82\u001b[0m \u001b[38;5;28;01mreturn\u001b[39;00m wrap(f, loop\u001b[38;5;241m=\u001b[39mloop, executor\u001b[38;5;241m=\u001b[39mexecutor)\n",
      "File \u001b[1;32mc:\\Users\\55386\\anaconda3\\envs\\Zeyu_for_data_analyze_use\\Lib\\concurrent\\futures\\thread.py:58\u001b[0m, in \u001b[0;36m_WorkItem.run\u001b[1;34m(self)\u001b[0m\n\u001b[0;32m     55\u001b[0m     \u001b[38;5;28;01mreturn\u001b[39;00m\n\u001b[0;32m     57\u001b[0m \u001b[38;5;28;01mtry\u001b[39;00m:\n\u001b[1;32m---> 58\u001b[0m     result \u001b[38;5;241m=\u001b[39m \u001b[38;5;28mself\u001b[39m\u001b[38;5;241m.\u001b[39mfn(\u001b[38;5;241m*\u001b[39m\u001b[38;5;28mself\u001b[39m\u001b[38;5;241m.\u001b[39margs, \u001b[38;5;241m*\u001b[39m\u001b[38;5;241m*\u001b[39m\u001b[38;5;28mself\u001b[39m\u001b[38;5;241m.\u001b[39mkwargs)\n\u001b[0;32m     59\u001b[0m \u001b[38;5;28;01mexcept\u001b[39;00m \u001b[38;5;167;01mBaseException\u001b[39;00m \u001b[38;5;28;01mas\u001b[39;00m exc:\n\u001b[0;32m     60\u001b[0m     \u001b[38;5;28mself\u001b[39m\u001b[38;5;241m.\u001b[39mfuture\u001b[38;5;241m.\u001b[39mset_exception(exc)\n",
      "\u001b[1;31mFileNotFoundError\u001b[0m: [Errno 2] No such file or directory: 'try\\\\visited_ids.json'"
     ]
    }
   ],
   "source": [
    "class SteamDataFetcher:\n",
    "    '''初始化参数'''\n",
    "    def __init__(self, api_key, initial_friend_id, max_requests, concurrent_limit=20):\n",
    "\n",
    "        self.api_key = api_key\n",
    "        self.initial_friend_id = initial_friend_id # 初始的Steam用户ID，从列表用户开始抓取好友数据\n",
    "        self.max_requests = max_requests # 允许最大API请求数\n",
    "        self.concurrent_limit = concurrent_limit # 并发请求的限制，使用asyncio.Semaphore控制同一时间信号数量\n",
    "        self.num_requests = 0 # 记录已发出的请求次数\n",
    "        self.data_path = Path(r\"try\\steam_data.json\") # 存储抓取的数据\n",
    "        self.visited_path = Path(r\"try\\visited_ids.json\") # 已访问的用户ID的本地文件路径，避免多次重复查询\n",
    "        self.session = None # 用于发起HTTP请求\n",
    "        self.visited_ids = set() # 已访问的Steam用户ID集合\n",
    "        self.semaphore = asyncio.Semaphore(self.concurrent_limit) # 控制同一时间信号数量，避免频繁请求造成的“429”错误\n",
    "\n",
    "    '''初始化HTTP客户端会话，从文件加载已经访问过的用户ID列表，如果文件存在的话'''\n",
    "    async def initialize(self):\n",
    "        self.session = aiohttp.ClientSession() # 用于创建一个会话对象，用来发送多种类型的HTTP请求（GET、POST、PUT、DELETE）等\n",
    "        if self.visited_path.exists():\n",
    "            async with aiofiles.open(self.visited_path, \"r\") as file:\n",
    "                data = await file.read()\n",
    "                self.visited_ids = set(json.loads(data)) if data else set()\n",
    "\n",
    "    async def fetch_friends(self, steam_id):\n",
    "        async with self.semaphore:\n",
    "            if self.num_requests >= self.max_requests or steam_id in self.visited_ids:\n",
    "                return None\n",
    "            self.visited_ids.add(steam_id)\n",
    "            self.num_requests += 1\n",
    "            url = f\"http://api.steampowered.com/ISteamUser/GetFriendList/v0001/?key={self.api_key}&steamid={steam_id}&relationship=friend\"\n",
    "            async with self.session.get(url) as response:\n",
    "                if response.status == 200:\n",
    "                    return await response.json()\n",
    "                return {}\n",
    "\n",
    "    async def save_visited_ids(self):\n",
    "        async with aiofiles.open(self.visited_path, \"w\") as file:\n",
    "            await file.write(json.dumps(list(self.visited_ids)))\n",
    "\n",
    "    async def save_data(self, data):\n",
    "        existing_data = await self.load_data()\n",
    "        existing_data.update(data)\n",
    "        async with aiofiles.open(self.data_path, \"w\") as file:\n",
    "            await file.write(json.dumps(existing_data, indent=4))\n",
    "\n",
    "    async def load_data(self):\n",
    "        if self.data_path.exists():\n",
    "            async with aiofiles.open(self.data_path, 'r') as file:\n",
    "                data = await file.read()\n",
    "                return json.loads(data) if data else {}\n",
    "        return {}\n",
    "\n",
    "    async def close(self):\n",
    "        if self.session:\n",
    "            await self.session.close()\n",
    "\n",
    "    async def run(self):\n",
    "        await self.initialize()\n",
    "        friends_data = await self.load_data()\n",
    "        queue = deque([self.initial_friend_id])\n",
    "        save_threshold = 50\n",
    "        count = 0\n",
    "        batch_data = {}\n",
    "\n",
    "        while queue and (self.num_requests < self.max_requests):\n",
    "            current_id = queue.popleft()\n",
    "            if current_id not in self.visited_ids:\n",
    "                friends = await self.fetch_friends(current_id)\n",
    "                if friends:\n",
    "                    friends_data[current_id] = friends\n",
    "                    batch_data[current_id] = friends\n",
    "                    for friend in friends.get('friendslist', {}).get('friends', []):\n",
    "                        friend_id = friend.get('steamid')\n",
    "                        if friend_id and friend_id not in self.visited_ids:\n",
    "                            queue.append(friend_id)\n",
    "\n",
    "                count += 1\n",
    "                if count >= save_threshold:\n",
    "                    await self.save_data(batch_data)\n",
    "                    batch_data = {}\n",
    "                    count = 0\n",
    "                    await self.save_visited_ids()\n",
    "\n",
    "        if batch_data:\n",
    "            await self.save_data(batch_data)\n",
    "        await self.save_visited_ids()\n",
    "        await self.close()\n",
    "\n",
    "# 示例运行代码，确保在异步环境中调用\n",
    "async def main():\n",
    "    fetcher = SteamDataFetcher(api_key=get_api.steam_api_key, initial_friend_id=\"76561199054306973\", max_requests=10000, concurrent_limit=20)\n",
    "    try:\n",
    "        await fetcher.run()\n",
    "    finally:\n",
    "        await fetcher.close()\n",
    "\n",
    "# 运行 main 函数\n",
    "await(main())"
   ]
  },
  {
   "cell_type": "code",
   "execution_count": null,
   "metadata": {},
   "outputs": [],
   "source": []
  }
 ],
 "metadata": {
  "kernelspec": {
   "display_name": "Zeyu_for_data_analyze_use",
   "language": "python",
   "name": "python3"
  },
  "language_info": {
   "codemirror_mode": {
    "name": "ipython",
    "version": 3
   },
   "file_extension": ".py",
   "mimetype": "text/x-python",
   "name": "python",
   "nbconvert_exporter": "python",
   "pygments_lexer": "ipython3",
   "version": "3.11.8"
  }
 },
 "nbformat": 4,
 "nbformat_minor": 2
}
