{
 "cells": [
  {
   "cell_type": "code",
   "execution_count": 5,
   "metadata": {},
   "outputs": [],
   "source": [
    "import json\n",
    "\n",
    "class JsonFileSplitter:\n",
    "    def __init__(self, file_path):\n",
    "        self.file_path = file_path\n",
    "\n",
    "    def split_at_position(self, split_position, output_path_first, output_path_rest=None):\n",
    "        with open(self.file_path, 'r', encoding='UTF-8') as file:\n",
    "            content = file.read()\n",
    "\n",
    "        first_part = content[:split_position]\n",
    "        rest_part = content[split_position:]\n",
    "\n",
    "        self._write_to_file(output_path_first, first_part, 'UTF-8')\n",
    "        print(f\"第一个JSON对象已经保存到 {output_path_first}\")\n",
    "\n",
    "        if output_path_rest:\n",
    "            self._write_to_file(output_path_rest, rest_part, 'UTF-8')\n",
    "            print(f\"余下的数据已经保存到 {output_path_rest}\")\n",
    "\n",
    "    def _write_to_file(self, file_path, data, encoding):\n",
    "        with open(file_path, 'w', encoding=encoding) as file:\n",
    "            file.write(data)\n",
    "\n",
    "    def find_and_split_first_json_object(self):\n",
    "        try:\n",
    "            with open(self.file_path, 'r', encoding='UTF-8') as file:\n",
    "                json.load(file)\n",
    "            print(\"JSON 文件格式正确，无需分割。\")\n",
    "        except json.JSONDecodeError as e:\n",
    "            print(f\"在位置 {e.pos} 发现额外数据\")\n",
    "            return e.pos  # 返回额外数据开始的位置"
   ]
  },
  {
   "cell_type": "code",
   "execution_count": 6,
   "metadata": {},
   "outputs": [
    {
     "name": "stdout",
     "output_type": "stream",
     "text": [
      "JSON 文件格式正确，无需分割。\n"
     ]
    }
   ],
   "source": [
    "# 使用类\n",
    "file_path = r'C:\\Users\\55386\\OneDrive\\Documents\\Scripts\\Projects\\Steam_Game_Rating_Prediction_Project\\src\\data_extraction\\datas\\all_steam_data_part_1.json'\n",
    "splitter = JsonFileSplitter(file_path)\n",
    "\n",
    "# 如果需要自动分割文件\n",
    "split_position = splitter.find_and_split_first_json_object()\n",
    "if split_position:\n",
    "    output_path_first = r'C:\\Users\\55386\\OneDrive\\Documents\\Scripts\\Projects\\Steam_Game_Rating_Prediction_Project\\src\\data_extraction\\all_steam_data_part_3.json'\n",
    "    output_path_rest = r'C:\\Users\\55386\\OneDrive\\Documents\\Scripts\\Projects\\Steam_Game_Rating_Prediction_Project\\src\\data_extraction\\all_steam_data_part_4.json'\n",
    "    splitter.split_at_position(split_position, output_path_first, output_path_rest)"
   ]
  }
 ],
 "metadata": {
  "kernelspec": {
   "display_name": "Zeyu_for_data_analyze_use",
   "language": "python",
   "name": "python3"
  },
  "language_info": {
   "codemirror_mode": {
    "name": "ipython",
    "version": 3
   },
   "file_extension": ".py",
   "mimetype": "text/x-python",
   "name": "python",
   "nbconvert_exporter": "python",
   "pygments_lexer": "ipython3",
   "version": "3.11.8"
  }
 },
 "nbformat": 4,
 "nbformat_minor": 2
}
