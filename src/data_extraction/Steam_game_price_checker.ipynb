{
 "cells": [
  {
   "cell_type": "markdown",
   "metadata": {},
   "source": [
    "导入必要包\n",
    "这里有个小提示，当aiohttp包因为vpn等原因无法正确处理session时候，可以使用httpx等不同包处理"
   ]
  },
  {
   "cell_type": "code",
   "execution_count": 6,
   "metadata": {},
   "outputs": [
    {
     "name": "stdout",
     "output_type": "stream",
     "text": [
      "{'initialprice': 39.0, 'finalprice': 39.0, 'discountpercent': 0, 'currency': 'SGD'}\n",
      "{'error': 'No pricing information available'}\n",
      "{'error': 'No pricing information available'}\n"
     ]
    }
   ],
   "source": [
    "import httpx\n",
    "import asyncio\n",
    "\n",
    "class SteamGameChecker:\n",
    "    def __init__(self, desired_currency):\n",
    "        self.desired_currency = desired_currency\n",
    "\n",
    "    async def get_information(self, client, appid):\n",
    "        url = f'http://store.steampowered.com/api/appdetails?appids={appid}&cc={self.desired_currency}&filters=price_overview'\n",
    "        for _ in range(3):  # 尝试3次\n",
    "            try:\n",
    "                response = await client.get(url, timeout=20, follow_redirects=True)\n",
    "                response.raise_for_status()\n",
    "                j = response.json()\n",
    "                data = j.get(str(appid), {}).get('data', None)\n",
    "                if data and 'price_overview' in data:\n",
    "                    price_info = data['price_overview']\n",
    "                    return {\n",
    "                        \"initialprice\": price_info['initial'] / 100,\n",
    "                        \"finalprice\": price_info['final'] / 100,\n",
    "                        \"discountpercent\": price_info['discount_percent'],\n",
    "                        \"currency\": price_info['currency']\n",
    "                    }\n",
    "                else:\n",
    "                    return {\"error\": \"No pricing information available\"}\n",
    "            except httpx.HTTPStatusError as e:\n",
    "                error_msg = str(e)\n",
    "                await asyncio.sleep(2)  # 等待2秒后重试\n",
    "        return {\"error\": error_msg}\n",
    "\n",
    "async def fetch_all_appids(appids, desired_currency):\n",
    "    async with httpx.AsyncClient() as client:\n",
    "        checker = SteamGameChecker(desired_currency)\n",
    "        tasks = [checker.get_information(client, appid) for appid in appids]\n",
    "        responses = await asyncio.gather(*tasks)\n",
    "        return responses\n",
    "\n",
    "# Example usage\n",
    "appids = [220200, 230410, 440]\n",
    "desired_currency = 'USD'\n",
    "\n",
    "# 在Notebook环境中直接调用异步函数\n",
    "async def main():\n",
    "    results = await fetch_all_appids(appids, desired_currency)\n",
    "    for result in results:\n",
    "        print(result)\n",
    "\n",
    "await main()\n"
   ]
  }
 ],
 "metadata": {
  "kernelspec": {
   "display_name": "Zeyu_for_data_analyze_use",
   "language": "python",
   "name": "python3"
  },
  "language_info": {
   "codemirror_mode": {
    "name": "ipython",
    "version": 3
   },
   "file_extension": ".py",
   "mimetype": "text/x-python",
   "name": "python",
   "nbconvert_exporter": "python",
   "pygments_lexer": "ipython3",
   "version": "3.11.8"
  }
 },
 "nbformat": 4,
 "nbformat_minor": 2
}
