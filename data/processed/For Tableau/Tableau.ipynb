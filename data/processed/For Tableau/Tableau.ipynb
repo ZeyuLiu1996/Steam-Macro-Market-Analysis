{
 "cells": [
  {
   "cell_type": "code",
   "execution_count": 16,
   "metadata": {},
   "outputs": [],
   "source": [
    "import pandas as pd\n",
    "import re"
   ]
  },
  {
   "cell_type": "code",
   "execution_count": 18,
   "metadata": {},
   "outputs": [],
   "source": [
    "total_df = pd.read_csv('../Total_data.csv')\n",
    "cols = total_df.columns"
   ]
  },
  {
   "cell_type": "code",
   "execution_count": 23,
   "metadata": {},
   "outputs": [],
   "source": [
    "game_columns = [col for col in cols if re.search(r'name_game|playtime_forever|price_overview', col)] # 定义游戏名称列与游戏时间列\n"
   ]
  },
  {
   "cell_type": "markdown",
   "metadata": {},
   "source": [
    "steamid\n",
    "loccountrycode\n",
    "game_count\n",
    "appid_game1\n",
    "name_game1\n",
    "playtime_forever_game1\n",
    "price_overview1\n",
    "genres1\n",
    "developers1\n",
    "publishers1\n",
    "categories1\n",
    "release_date1\n",
    "metacritic1\n",
    "appid_game2\n",
    "name_game2\n",
    "playtime_forever_game2\n",
    "price_overview2\n",
    "genres2\n",
    "developers2\n",
    "publishers2\n",
    "categories2\n",
    "release_date2\n",
    "metacritic2\n",
    "appid_game3\n",
    "name_game3\n",
    "playtime_forever_game3\n",
    "price_overview3\n",
    "genres3\n",
    "developers3\n",
    "publishers3\n",
    "categories3\n",
    "release_date3\n",
    "metacritic3\n",
    "appid_game4\n",
    "name_game4\n",
    "playtime_forever_game4\n",
    "price_overview4\n",
    "genres4\n",
    "developers4\n",
    "publishers4\n",
    "categories4\n",
    "release_date4\n",
    "metacritic4\n",
    "appid_game5\n",
    "name_game5\n",
    "playtime_forever_game5\n",
    "price_overview5\n",
    "genres5\n",
    "developers5\n",
    "publishers5\n",
    "categories5\n",
    "release_date5\n",
    "metacritic5\n",
    "appid_game1_2weeks\n",
    "name_game1_2weeks\n",
    "playtime_2weeks_game1\n",
    "playtime_forever_game1_2weeks\n",
    "steam_appid_2weeks_game_1\n",
    "price_overview_2weeks_game_1\n",
    "genres_2weeks_game_1\n",
    "developers_2weeks_game_1\n",
    "publishers_2weeks_game_1\n",
    "categories_2weeks_game_1\n",
    "release_date_2weeks_game_1\n",
    "metacritic_2weeks_game_1\n",
    "appid_game2_2weeks\n",
    "name_game2_2weeks\n",
    "playtime_2weeks_game2\n",
    "playtime_forever_game2_2weeks\n",
    "steam_appid_2weeks_game_2\n",
    "price_overview_2weeks_game_2\n",
    "genres_2weeks_game_2\n",
    "developers_2weeks_game_2\n",
    "publishers_2weeks_game_2\n",
    "categories_2weeks_game_2\n",
    "release_date_2weeks_game_2\n",
    "metacritic_2weeks_game_2\n",
    "appid_game3_2weeks\n",
    "name_game3_2weeks\n",
    "playtime_2weeks_game3\n",
    "playtime_forever_game3_2weeks\n",
    "steam_appid_2weeks_game_3\n",
    "price_overview_2weeks_game_3\n",
    "genres_2weeks_game_3\n",
    "developers_2weeks_game_3\n",
    "publishers_2weeks_game_3\n",
    "categories_2weeks_game_3\n",
    "release_date_2weeks_game_3\n",
    "metacritic_2weeks_game_3\n",
    "Unnamed: 0_y\n",
    "Action_weighted_playtime (in_minutes)\n",
    "FreetoPlay_weighted_playtime (in_minutes)\n",
    "Adventure_weighted_playtime (in_minutes)\n",
    "Indie_weighted_playtime (in_minutes)\n",
    "Racing_weighted_playtime (in_minutes)\n",
    "Simulation_weighted_playtime (in_minutes)\n",
    "Sports_weighted_playtime (in_minutes)\n",
    "MassivelyMultiplayer_weighted_playtime (in_minutes)\n",
    "RPG_weighted_playtime (in_minutes)\n",
    "Strategy_weighted_playtime (in_minutes)\n",
    "Casual_weighted_playtime (in_minutes)\n",
    "total_price(dollar)\n",
    "Principal Component 1\n",
    "Principal Component 2\n",
    "Principal Component 3\n",
    "Cluster_Labels\n"
   ]
  },
  {
   "cell_type": "code",
   "execution_count": 13,
   "metadata": {},
   "outputs": [
    {
     "data": {
      "text/plain": [
       "0        76561197960269904\n",
       "1        76561197960280448\n",
       "2        76561197960290464\n",
       "3        76561197960315952\n",
       "4        76561197960331200\n",
       "               ...        \n",
       "20436    76561198156455808\n",
       "20437    76561198130132224\n",
       "20438    76561198981187936\n",
       "20439    76561198106511888\n",
       "20440    76561198026586640\n",
       "Name: steamid, Length: 20441, dtype: int64"
      ]
     },
     "execution_count": 13,
     "metadata": {},
     "output_type": "execute_result"
    }
   ],
   "source": [
    "total_df[['steamid','']]"
   ]
  }
 ],
 "metadata": {
  "kernelspec": {
   "display_name": "Zeyu_for_data_analyze_use",
   "language": "python",
   "name": "python3"
  },
  "language_info": {
   "codemirror_mode": {
    "name": "ipython",
    "version": 3
   },
   "file_extension": ".py",
   "mimetype": "text/x-python",
   "name": "python",
   "nbconvert_exporter": "python",
   "pygments_lexer": "ipython3",
   "version": "3.11.8"
  }
 },
 "nbformat": 4,
 "nbformat_minor": 2
}
