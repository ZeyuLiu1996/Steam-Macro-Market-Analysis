{
 "cells": [
  {
   "cell_type": "markdown",
   "metadata": {},
   "source": [
    "## 技术细节概览 📘\n",
    "本研究项目利用 Steam 数据来分析游戏市场的趋势、识别热门游戏类型，并探索玩家的消费潜力。本文件将介绍项目中使用的**关键技术和方法**。"
   ]
  },
  {
   "cell_type": "markdown",
   "metadata": {},
   "source": [
    "### 1.获取玩家ID\n"
   ]
  },
  {
   "cell_type": "markdown",
   "metadata": {},
   "source": [
    "- **广度优先搜索**：从一个初始id列表开始，遍历列表中id的朋友列表，之后进行递归，逐个遍历朋友的朋友....\n",
    "- **异步编程**：利用"
   ]
  },
  {
   "cell_type": "code",
   "execution_count": null,
   "metadata": {},
   "outputs": [],
   "source": []
  }
 ],
 "metadata": {
  "kernelspec": {
   "display_name": "Zeyu_for_data_analyze_use",
   "language": "python",
   "name": "python3"
  },
  "language_info": {
   "name": "python",
   "version": "3.11.8"
  }
 },
 "nbformat": 4,
 "nbformat_minor": 2
}
