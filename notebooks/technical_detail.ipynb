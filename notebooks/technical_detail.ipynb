{
 "cells": [
  {
   "cell_type": "markdown",
   "metadata": {},
   "source": [
    "## Technical Overview 📘\n",
    "This research project utilizes Steam data to analyze trends in the gaming market, identify popular game genres, and explore player spending potential. This document will introduce the **key technologies and methods** used in the project."
   ]
  },
  {
   "cell_type": "markdown",
   "metadata": {},
   "source": [
    "### 1.Fetching Player IDs"
   ]
  },
  {
   "cell_type": "markdown",
   "metadata": {},
   "source": [
    "- **Breadth-First Search**：Starting from a few initial ID lists, the process involves traversing the friends list of each ID, and then recursively traversing the friends of friends, and so on.\n",
    "\n",
    "<p align=\"center\"><img width=50% src=\"../images/Breadth-first-tree.jpg\"></p>"
   ]
  },
  {
   "cell_type": "markdown",
   "metadata": {},
   "source": [
    "- **异步编程**：利用"
   ]
  }
 ],
 "metadata": {
  "kernelspec": {
   "display_name": "Zeyu_for_data_analyze_use",
   "language": "python",
   "name": "python3"
  },
  "language_info": {
   "name": "python",
   "version": "3.11.8"
  }
 },
 "nbformat": 4,
 "nbformat_minor": 2
}
